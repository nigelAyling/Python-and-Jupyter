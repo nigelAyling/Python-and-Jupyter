{
 "cells": [
  {
   "cell_type": "code",
   "execution_count": 15,
   "metadata": {},
   "outputs": [],
   "source": [
    "# OUR TASK. Import request & beutiful soup\n",
    "import requests\n",
    "import bs4\n",
    "import numpy as np\n",
    "from pandas import Series, DataFrame\n",
    "import pandas as pd\n",
    "\n",
    "def create_soup(url,tag_name):\n",
    "    page = requests.get(url)\n",
    "    soup = bs4.BeautifulSoup(page.text,\"lxml\")\n",
    "    result = soup.select(tag_name)\n",
    "    return result\n",
    "\n",
    "def get_row_label(current_country, current_province):\n",
    "    if current_province == '':\n",
    "        result = current_country\n",
    "    else:\n",
    "        result = current_country+':-'+current_province\n",
    "    return result\n",
    "\n",
    "# SEARCH ITEMS\n",
    "def find_exact(dictionary, search_string):\n",
    "    result = dictionary.get(search_string)\n",
    "    return result\n",
    "\n",
    "def find_wildcard(dictionary,search_string):\n",
    "    output_dictionary={}\n",
    "    for key,val in dictionary.items():\n",
    "        if search_string in key:\n",
    "            output_dictionary[key] = val\n",
    "    return output_dictionary\n",
    "def dataframe_input(covstats_result):\n",
    "    result={}\n",
    "    headers = covstats_result[4]\n",
    "    transposed_result = list(map(list, zip(*covstats_result[3])))\n",
    "    for n in range(3):   \n",
    "        result.update({headers[n]:transposed_result[n]})\n",
    "    return result\n",
    "            \n",
    "def get_covstats(url,tag):\n",
    "    data = create_soup(url,tag) \n",
    "    #Create Resulting List\n",
    "    master_dictionary = {}\n",
    "    country_lookup = []\n",
    "    for_dataframe={}\n",
    "    simple_list_output=[]\n",
    "    #Create Header Row\n",
    "    headers = data[0].getText()\n",
    "    headers_list = headers.split('\\n')\n",
    "    headers_list_cleaned = headers_list[2:10]\n",
    "    # this data[1:5] is just 3 rows for testing purposes\n",
    "    for item in data[128:140]:\n",
    "        item_text = item.getText()\n",
    "        item_list = item_text.split('\\n')\n",
    "        #item_list[3-5] is limiting the columns for testing purposes\n",
    "        item_list_cleaned = item_list[2:10]\n",
    "    \n",
    "        dictionary_row = dict(zip(headers_list_cleaned, item_list_cleaned))\n",
    "\n",
    "        # put it into summary list\n",
    "        current_province =  dictionary_row[\"Province/State\"]\n",
    "        current_country = dictionary_row[\"Country/Region\"] \n",
    "        row_label = get_row_label(current_country, current_province)\n",
    "        item_number = item.key\n",
    "        #print(item_number)\n",
    "        #1. build a SET of countries (FOR LOOKUP)\n",
    "        country_lookup.append(row_label) \n",
    "        #2 Build object of labeled lists (adding row_label)\n",
    "        master_dictionary.update({row_label:dictionary_row})\n",
    "        for_dataframe.update({row_label:item_list_cleaned})\n",
    "        #3 Build just a list\n",
    "        simple_list_output.append(item_list_cleaned)\n",
    "        \n",
    "    return [master_dictionary, country_lookup, for_dataframe,simple_list_output,headers_list_cleaned]"
   ]
  },
  {
   "cell_type": "code",
   "execution_count": 18,
   "metadata": {},
   "outputs": [
    {
     "name": "stdout",
     "output_type": "stream",
     "text": [
      "{'France': {'Province/State': '', 'Country/Region': 'France', 'Lat': '46.2276', 'Long': '2.2137', '1/22/20': '0', '1/23/20': '0', '1/24/20': '2', '1/25/20': '3'}, 'Gabon': {'Province/State': '', 'Country/Region': 'Gabon', 'Lat': '-0.8037', 'Long': '11.6094', '1/22/20': '0', '1/23/20': '0', '1/24/20': '0', '1/25/20': '0'}, 'Gambia': {'Province/State': '', 'Country/Region': 'Gambia', 'Lat': '13.4432', 'Long': '-15.3101', '1/22/20': '0', '1/23/20': '0', '1/24/20': '0', '1/25/20': '0'}, 'Georgia': {'Province/State': '', 'Country/Region': 'Georgia', 'Lat': '42.3154', 'Long': '43.3569', '1/22/20': '0', '1/23/20': '0', '1/24/20': '0', '1/25/20': '0'}, 'Germany': {'Province/State': '', 'Country/Region': 'Germany', 'Lat': '51.165691', 'Long': '10.451526', '1/22/20': '0', '1/23/20': '0', '1/24/20': '0', '1/25/20': '0'}, 'Ghana': {'Province/State': '', 'Country/Region': 'Ghana', 'Lat': '7.9465', 'Long': '-1.0232', '1/22/20': '0', '1/23/20': '0', '1/24/20': '0', '1/25/20': '0'}, 'Greece': {'Province/State': '', 'Country/Region': 'Greece', 'Lat': '39.0742', 'Long': '21.8243', '1/22/20': '0', '1/23/20': '0', '1/24/20': '0', '1/25/20': '0'}, 'Grenada': {'Province/State': '', 'Country/Region': 'Grenada', 'Lat': '12.1165', 'Long': '-61.679', '1/22/20': '0', '1/23/20': '0', '1/24/20': '0', '1/25/20': '0'}, 'Guatemala': {'Province/State': '', 'Country/Region': 'Guatemala', 'Lat': '15.7835', 'Long': '-90.2308', '1/22/20': '0', '1/23/20': '0', '1/24/20': '0', '1/25/20': '0'}, 'Guinea': {'Province/State': '', 'Country/Region': 'Guinea', 'Lat': '9.9456', 'Long': '-9.6966', '1/22/20': '0', '1/23/20': '0', '1/24/20': '0', '1/25/20': '0'}, 'Guinea-Bissau': {'Province/State': '', 'Country/Region': 'Guinea-Bissau', 'Lat': '11.8037', 'Long': '-15.1804', '1/22/20': '0', '1/23/20': '0', '1/24/20': '0', '1/25/20': '0'}, 'Guyana': {'Province/State': '', 'Country/Region': 'Guyana', 'Lat': '4.860416', 'Long': '-58.93018', '1/22/20': '0', '1/23/20': '0', '1/24/20': '0', '1/25/20': '0'}}\n"
     ]
    }
   ],
   "source": [
    "#Create our Data\n",
    "url = 'https://github.com/CSSEGISandData/COVID-19/blob/master/csse_covid_19_data/csse_covid_19_time_series/time_series_covid19_confirmed_global.csv'\n",
    "tag = '.js-file-line'\n",
    "\n",
    "result = get_covstats(url,tag)\n",
    "print(result[0])\n",
    "\n",
    "\n",
    "\n",
    "\n",
    "\n",
    "\n",
    "#dataframe_input = dataframe_input(result[1])\n",
    "\n",
    "#Create A Dataframe\n",
    "#covid_frame = DataFrame(dataframe_input)\n",
    "#covid_frame\n",
    "#Working with our dataframe\n",
    "\n",
    "\n"
   ]
  },
  {
   "cell_type": "code",
   "execution_count": null,
   "metadata": {},
   "outputs": [],
   "source": []
  },
  {
   "cell_type": "code",
   "execution_count": null,
   "metadata": {},
   "outputs": [],
   "source": []
  }
 ],
 "metadata": {
  "kernelspec": {
   "display_name": "Python 3",
   "language": "python",
   "name": "python3"
  },
  "language_info": {
   "codemirror_mode": {
    "name": "ipython",
    "version": 3
   },
   "file_extension": ".py",
   "mimetype": "text/x-python",
   "name": "python",
   "nbconvert_exporter": "python",
   "pygments_lexer": "ipython3",
   "version": "3.8.3"
  }
 },
 "nbformat": 4,
 "nbformat_minor": 4
}
