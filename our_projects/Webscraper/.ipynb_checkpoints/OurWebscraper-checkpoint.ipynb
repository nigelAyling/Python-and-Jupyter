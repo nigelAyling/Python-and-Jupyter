{
 "cells": [
  {
   "cell_type": "markdown",
   "metadata": {},
   "source": [
    "TASK: Notice how there is more than one page, and subsequent pages look like this http://quotes.toscrape.com/page/2/. Use what you know about for loops and string concatenation to loop through all the pages and get all the unique authors on the website. Keep in mind there are many ways to achieve this, also note that you will need to somehow figure out how to check that your loop is on the last page with quotes. For debugging purposes, I will let you know that there are only 10 pages, so the last page is http://quotes.toscrape.com/page/10/, but try to create a loop that is robust enough that it wouldn't matter to know the amount of pages beforehand, perhaps use try/except for this, its up to you!"
   ]
  },
  {
   "cell_type": "markdown",
   "metadata": {},
   "source": [
    "TASKS: Compile a list of all authors on whole site\n",
    "\n",
    "1. Create a soup for page 1\n",
    "2. figure out how to select the authors for that soup\n",
    "3. create a loop to fetch authors for all pages\n",
    "\n",
    "#EXAMPLE CODE\n",
    "result = requests.get(\"https://en.wikipedia.org/wiki/Napoleon\")\n",
    "type(result)\n",
    "result.text\n",
    "soup = bs4.BeautifulSoup(result.text,\"lxml\")\n",
    "soup\n",
    "soup.select('h1')[0].getText()\n",
    "images = soup.select('.image')\n",
    "firstImage = images[0]\n",
    "firstImage['src']\n",
    "firstImage.keys()"
   ]
  },
  {
   "cell_type": "code",
   "execution_count": 1,
   "metadata": {},
   "outputs": [
    {
     "ename": "SyntaxError",
     "evalue": "invalid syntax (<ipython-input-1-607808f6d853>, line 20)",
     "output_type": "error",
     "traceback": [
      "\u001b[0;36m  File \u001b[0;32m\"<ipython-input-1-607808f6d853>\"\u001b[0;36m, line \u001b[0;32m20\u001b[0m\n\u001b[0;31m    for item in range(1:100):\u001b[0m\n\u001b[0m                       ^\u001b[0m\n\u001b[0;31mSyntaxError\u001b[0m\u001b[0;31m:\u001b[0m invalid syntax\n"
     ]
    }
   ],
   "source": [
    "# OUR TASK. Import request & beutiful soup\n",
    "import requests\n",
    "import bs4\n",
    "\n",
    "def create_soup(url,tag_name):\n",
    "    page = requests.get(url)\n",
    "    soup = bs4.BeautifulSoup(page.text,\"lxml\")\n",
    "    result = soup.select(tag_name)\n",
    "    return result\n",
    "\n",
    "def get_text_from_tag(tag_list):\n",
    "    tag_number = len(tag_list)\n",
    "    result = []\n",
    "    for item in tag_list:\n",
    "        result.append(item.getText())\n",
    "    return result\n",
    "\n",
    "def get_100_urls(url_template):\n",
    "    result = []\n",
    "    for item in range(1:100):\n",
    "        result.append(url_template + str(item))\n",
    "    return result\n",
    "    \n",
    "\n"
   ]
  },
  {
   "cell_type": "code",
   "execution_count": 2,
   "metadata": {
    "scrolled": true
   },
   "outputs": [
    {
     "ename": "NameError",
     "evalue": "name 'create_soup' is not defined",
     "output_type": "error",
     "traceback": [
      "\u001b[0;31m-----------------------------------------------------------------\u001b[0m",
      "\u001b[0;31mNameError\u001b[0m                       Traceback (most recent call last)",
      "\u001b[0;32m<ipython-input-2-0f800711d32c>\u001b[0m in \u001b[0;36m<module>\u001b[0;34m\u001b[0m\n\u001b[1;32m      1\u001b[0m \u001b[0;31m#PROGRAM\u001b[0m\u001b[0;34m\u001b[0m\u001b[0;34m\u001b[0m\u001b[0;34m\u001b[0m\u001b[0m\n\u001b[0;32m----> 2\u001b[0;31m \u001b[0mpage1\u001b[0m \u001b[0;34m=\u001b[0m \u001b[0mcreate_soup\u001b[0m\u001b[0;34m(\u001b[0m\u001b[0;34m'http://quotes.toscrape.com/page/1/'\u001b[0m\u001b[0;34m,\u001b[0m\u001b[0;34m'.author'\u001b[0m\u001b[0;34m)\u001b[0m\u001b[0;34m\u001b[0m\u001b[0;34m\u001b[0m\u001b[0m\n\u001b[0m\u001b[1;32m      3\u001b[0m \u001b[0;31m#page1\u001b[0m\u001b[0;34m\u001b[0m\u001b[0;34m\u001b[0m\u001b[0;34m\u001b[0m\u001b[0m\n\u001b[1;32m      4\u001b[0m \u001b[0mpage1_author_list\u001b[0m \u001b[0;34m=\u001b[0m \u001b[0mget_text_from_tag\u001b[0m\u001b[0;34m(\u001b[0m\u001b[0mpage1\u001b[0m\u001b[0;34m)\u001b[0m\u001b[0;34m\u001b[0m\u001b[0;34m\u001b[0m\u001b[0m\n\u001b[1;32m      5\u001b[0m \u001b[0mpage1_author_list\u001b[0m\u001b[0;34m\u001b[0m\u001b[0;34m\u001b[0m\u001b[0m\n",
      "\u001b[0;31mNameError\u001b[0m: name 'create_soup' is not defined"
     ]
    }
   ],
   "source": [
    "#PROGRAM\n",
    "page1 = create_soup('http://quotes.toscrape.com/page/1/','.author')\n",
    "#page1\n",
    "page1_author_list = get_text_from_tag(page1)\n",
    "page1_author_list\n",
    "\n"
   ]
  },
  {
   "cell_type": "code",
   "execution_count": 3,
   "metadata": {},
   "outputs": [
    {
     "ename": "NameError",
     "evalue": "name 'get_100_urls' is not defined",
     "output_type": "error",
     "traceback": [
      "\u001b[0;31m-----------------------------------------------------------------\u001b[0m",
      "\u001b[0;31mNameError\u001b[0m                       Traceback (most recent call last)",
      "\u001b[0;32m<ipython-input-3-a0ea167aca42>\u001b[0m in \u001b[0;36m<module>\u001b[0;34m\u001b[0m\n\u001b[0;32m----> 1\u001b[0;31m \u001b[0mmy_urls\u001b[0m \u001b[0;34m=\u001b[0m \u001b[0mget_100_urls\u001b[0m\u001b[0;34m(\u001b[0m\u001b[0;34m'http://quotes.toscrape.com/page/'\u001b[0m\u001b[0;34m)\u001b[0m\u001b[0;34m\u001b[0m\u001b[0;34m\u001b[0m\u001b[0m\n\u001b[0m\u001b[1;32m      2\u001b[0m \u001b[0mmy_urls\u001b[0m\u001b[0;34m\u001b[0m\u001b[0;34m\u001b[0m\u001b[0m\n",
      "\u001b[0;31mNameError\u001b[0m: name 'get_100_urls' is not defined"
     ]
    }
   ],
   "source": [
    "my_urls = get_100_urls('http://quotes.toscrape.com/page/')\n",
    "my_urls"
   ]
  },
  {
   "cell_type": "code",
   "execution_count": null,
   "metadata": {},
   "outputs": [],
   "source": [
    "#loop accross all pages we need\n",
    "#determine number of pages related to generic URL\n",
    "#Loop acroos all pages\n",
    "page1_author_list\n",
    "\n",
    "#determine number pages\n",
    "generic_url = 'http://quotes.toscrape.com/page/' #url minus the page number\n",
    "\n",
    "result = []\n",
    "for item in range(100):\n",
    "     result.append(generic_url + str(item))\n",
    "re\n",
    "    \n"
   ]
  }
 ],
 "metadata": {
  "kernelspec": {
   "display_name": "Python 3",
   "language": "python",
   "name": "python3"
  },
  "language_info": {
   "codemirror_mode": {
    "name": "ipython",
    "version": 3
   },
   "file_extension": ".py",
   "mimetype": "text/x-python",
   "name": "python",
   "nbconvert_exporter": "python",
   "pygments_lexer": "ipython3",
   "version": "3.8.3"
  }
 },
 "nbformat": 4,
 "nbformat_minor": 4
}
