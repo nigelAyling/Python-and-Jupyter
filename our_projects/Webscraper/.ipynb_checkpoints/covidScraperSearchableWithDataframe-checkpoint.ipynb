{
 "cells": [
  {
   "cell_type": "code",
   "execution_count": 6,
   "metadata": {},
   "outputs": [],
   "source": [
    "# OUR TASK. Import request & beutiful soup\n",
    "import requests\n",
    "import bs4\n",
    "def create_soup(url,tag_name):\n",
    "    page = requests.get(url)\n",
    "    soup = bs4.BeautifulSoup(page.text,\"lxml\")\n",
    "    result = soup.select(tag_name)\n",
    "    return result\n",
    "\n",
    "def get_row_label(current_country, current_province):\n",
    "    if current_province == '':\n",
    "        result = current_country\n",
    "    else:\n",
    "        result = current_country+':-'+current_province\n",
    "    return result\n",
    "\n",
    "# SEARCH ITEMS\n",
    "def find_exact(dictionary, search_string):\n",
    "    result = dictionary.get(search_string)\n",
    "    return result\n",
    "\n",
    "def find_wildcard(dictionary,search_string):\n",
    "    output_dictionary={}\n",
    "    for key,val in dictionary.items():\n",
    "        if search_string in key:\n",
    "            output_dictionary[key] = val\n",
    "    return output_dictionary\n",
    "            \n",
    "def get_covstats(url,tag):\n",
    "    data = create_soup(url,tag) \n",
    "    #Create Resulting List\n",
    "    master_dictionary = {}\n",
    "    country_lookup = []\n",
    "    for_dataframe={}\n",
    "    #Create Header Row\n",
    "    headers = data[0].getText()\n",
    "    headers_list = headers.split('\\n')\n",
    "    headers_list_cleaned = headers_list[2:10]\n",
    "    # this data[1:5] is just 3 rows for testing purposes\n",
    "    for item in data[1:]:\n",
    "        item_text = item.getText()\n",
    "        item_list = item_text.split('\\n')\n",
    "        #item_list[3-5] is limiting the columns for testing purposes\n",
    "        item_list_cleaned = item_list[2:10]\n",
    "    \n",
    "        dictionary_row = dict(zip(headers_list_cleaned, item_list_cleaned))\n",
    "\n",
    "        # put it into summary list\n",
    "        current_province =  dictionary_row[\"Province/State\"]\n",
    "        current_country = dictionary_row[\"Country/Region\"] \n",
    "        row_label = get_row_label(current_country, current_province)\n",
    "        item_number = item.key\n",
    "        #print(item_number)\n",
    "        #1. build a SET of countries (FOR LOOKUP)\n",
    "        country_lookup.append(row_label) \n",
    "        #2 Build  (adding row_label)\n",
    "        \n",
    "        master_dictionary.update({row_label:dictionary_row})\n",
    "        for_dataframe.update({row_label:item_list_cleaned})\n",
    "        \n",
    "        \n",
    "    return [master_dictionary, country_lookup, for_dataframe]"
   ]
  },
  {
   "cell_type": "code",
   "execution_count": 7,
   "metadata": {},
   "outputs": [
    {
     "name": "stdout",
     "output_type": "stream",
     "text": [
      "{'Afghanistan': ['', 'Afghanistan', '33.93911', '67.709953', '0', '0', '0', '0'], 'Albania': ['', 'Albania', '41.1533', '20.1683', '0', '0', '0', '0'], 'Algeria': ['', 'Algeria', '28.0339', '1.6596', '0', '0', '0', '0'], 'Andorra': ['', 'Andorra', '42.5063', '1.5218', '0', '0', '0', '0'], 'Angola': ['', 'Angola', '-11.2027', '17.8739', '0', '0', '0', '0'], 'Antigua and Barbuda': ['', 'Antigua and Barbuda', '17.0608', '-61.7964', '0', '0', '0', '0'], 'Argentina': ['', 'Argentina', '-38.4161', '-63.6167', '0', '0', '0', '0'], 'Armenia': ['', 'Armenia', '40.0691', '45.0382', '0', '0', '0', '0'], 'Australia:-Australian Capital Territory': ['Australian Capital Territory', 'Australia', '-35.4735', '149.0124', '0', '0', '0', '0'], 'Australia:-New South Wales': ['New South Wales', 'Australia', '-33.8688', '151.2093', '0', '0', '0', '0'], 'Australia:-Northern Territory': ['Northern Territory', 'Australia', '-12.4634', '130.8456', '0', '0', '0', '0'], 'Australia:-Queensland': ['Queensland', 'Australia', '-27.4698', '153.0251', '0', '0', '0', '0'], 'Australia:-South Australia': ['South Australia', 'Australia', '-34.9285', '138.6007', '0', '0', '0', '0'], 'Australia:-Tasmania': ['Tasmania', 'Australia', '-42.8821', '147.3272', '0', '0', '0', '0'], 'Australia:-Victoria': ['Victoria', 'Australia', '-37.8136', '144.9631', '0', '0', '0', '0'], 'Australia:-Western Australia': ['Western Australia', 'Australia', '-31.9505', '115.8605', '0', '0', '0', '0'], 'Austria': ['', 'Austria', '47.5162', '14.5501', '0', '0', '0', '0'], 'Azerbaijan': ['', 'Azerbaijan', '40.1431', '47.5769', '0', '0', '0', '0'], 'Bahamas': ['', 'Bahamas', '25.025885', '-78.035889', '0', '0', '0', '0'], 'Bahrain': ['', 'Bahrain', '26.0275', '50.55', '0', '0', '0', '0'], 'Bangladesh': ['', 'Bangladesh', '23.685', '90.3563', '0', '0', '0', '0'], 'Barbados': ['', 'Barbados', '13.1939', '-59.5432', '0', '0', '0', '0'], 'Belarus': ['', 'Belarus', '53.7098', '27.9534', '0', '0', '0', '0'], 'Belgium': ['', 'Belgium', '50.8333', '4.469936', '0', '0', '0', '0'], 'Belize': ['', 'Belize', '17.1899', '-88.4976', '0', '0', '0', '0'], 'Benin': ['', 'Benin', '9.3077', '2.3158', '0', '0', '0', '0'], 'Bhutan': ['', 'Bhutan', '27.5142', '90.4336', '0', '0', '0', '0'], 'Bolivia': ['', 'Bolivia', '-16.2902', '-63.5887', '0', '0', '0', '0'], 'Bosnia and Herzegovina': ['', 'Bosnia and Herzegovina', '43.9159', '17.6791', '0', '0', '0', '0'], 'Botswana': ['', 'Botswana', '-22.3285', '24.6849', '0', '0', '0', '0'], 'Brazil': ['', 'Brazil', '-14.235', '-51.9253', '0', '0', '0', '0'], 'Brunei': ['', 'Brunei', '4.5353', '114.7277', '0', '0', '0', '0'], 'Bulgaria': ['', 'Bulgaria', '42.7339', '25.4858', '0', '0', '0', '0'], 'Burkina Faso': ['', 'Burkina Faso', '12.2383', '-1.5616', '0', '0', '0', '0'], 'Burma': ['', 'Burma', '21.9162', '95.956', '0', '0', '0', '0'], 'Burundi': ['', 'Burundi', '-3.3731', '29.9189', '0', '0', '0', '0'], 'Cabo Verde': ['', 'Cabo Verde', '16.5388', '-23.0418', '0', '0', '0', '0'], 'Cambodia': ['', 'Cambodia', '11.55', '104.9167', '0', '0', '0', '0'], 'Cameroon': ['', 'Cameroon', '3.848', '11.5021', '0', '0', '0', '0'], 'Canada:-Alberta': ['Alberta', 'Canada', '53.9333', '-116.5765', '0', '0', '0', '0'], 'Canada:-British Columbia': ['British Columbia', 'Canada', '53.7267', '-127.6476', '0', '0', '0', '0'], 'Canada:-Diamond Princess': ['Diamond Princess', 'Canada', '0.0', '0.0', '0', '0', '0', '0'], 'Canada:-Grand Princess': ['Grand Princess', 'Canada', '0.0', '0.0', '0', '0', '0', '0'], 'Canada:-Manitoba': ['Manitoba', 'Canada', '53.7609', '-98.8139', '0', '0', '0', '0'], 'Canada:-New Brunswick': ['New Brunswick', 'Canada', '46.5653', '-66.4619', '0', '0', '0', '0'], 'Canada:-Newfoundland and Labrador': ['Newfoundland and Labrador', 'Canada', '53.1355', '-57.6604', '0', '0', '0', '0'], 'Canada:-Northwest Territories': ['Northwest Territories', 'Canada', '64.8255', '-124.8457', '0', '0', '0', '0'], 'Canada:-Nova Scotia': ['Nova Scotia', 'Canada', '44.682', '-63.7443', '0', '0', '0', '0'], 'Canada:-Ontario': ['Ontario', 'Canada', '51.2538', '-85.3232', '0', '0', '0', '0'], 'Canada:-Prince Edward Island': ['Prince Edward Island', 'Canada', '46.5107', '-63.4168', '0', '0', '0', '0'], 'Canada:-Quebec': ['Quebec', 'Canada', '52.9399', '-73.5491', '0', '0', '0', '0'], 'Canada:-Saskatchewan': ['Saskatchewan', 'Canada', '52.9399', '-106.4509', '0', '0', '0', '0'], 'Canada:-Yukon': ['Yukon', 'Canada', '64.2823', '-135.0', '0', '0', '0', '0'], 'Central African Republic': ['', 'Central African Republic', '6.6111', '20.9394', '0', '0', '0', '0'], 'Chad': ['', 'Chad', '15.4542', '18.7322', '0', '0', '0', '0'], 'Chile': ['', 'Chile', '-35.6751', '-71.543', '0', '0', '0', '0'], 'China:-Anhui': ['Anhui', 'China', '31.8257', '117.2264', '1', '9', '15', '39'], 'China:-Beijing': ['Beijing', 'China', '40.1824', '116.4142', '14', '22', '36', '41'], 'China:-Chongqing': ['Chongqing', 'China', '30.0572', '107.874', '6', '9', '27', '57'], 'China:-Fujian': ['Fujian', 'China', '26.0789', '117.9874', '1', '5', '10', '18'], 'China:-Gansu': ['Gansu', 'China', '35.7518', '104.2861', '0', '2', '2', '4'], 'China:-Guangdong': ['Guangdong', 'China', '23.3417', '113.4244', '26', '32', '53', '78'], 'China:-Guangxi': ['Guangxi', 'China', '23.8298', '108.7881', '2', '5', '23', '23'], 'China:-Guizhou': ['Guizhou', 'China', '26.8154', '106.8748', '1', '3', '3', '4'], 'China:-Hainan': ['Hainan', 'China', '19.1959', '109.7453', '4', '5', '8', '19'], 'China:-Hebei': ['Hebei', 'China', '39.549', '116.1306', '1', '1', '2', '8'], 'China:-Heilongjiang': ['Heilongjiang', 'China', '47.862', '127.7615', '0', '2', '4', '9'], 'China:-Henan': ['Henan', 'China', '37.8957', '114.9042', '5', '5', '9', '32'], 'China:-Hong Kong': ['Hong Kong', 'China', '22.3', '114.2', '0', '2', '2', '5'], 'China:-Hubei': ['Hubei', 'China', '30.9756', '112.2707', '444', '444', '549', '761'], 'China:-Hunan': ['Hunan', 'China', '27.6104', '111.7088', '4', '9', '24', '43'], 'China:-Inner Mongolia': ['Inner Mongolia', 'China', '44.0935', '113.9448', '0', '0', '1', '7'], 'China:-Jiangsu': ['Jiangsu', 'China', '32.9711', '119.455', '1', '5', '9', '18'], 'China:-Jiangxi': ['Jiangxi', 'China', '27.614', '115.7221', '2', '7', '18', '18'], 'China:-Jilin': ['Jilin', 'China', '43.6661', '126.1923', '0', '1', '3', '4'], 'China:-Liaoning': ['Liaoning', 'China', '41.2956', '122.6085', '2', '3', '4', '17'], 'China:-Macau': ['Macau', 'China', '22.1667', '113.55', '1', '2', '2', '2'], 'China:-Ningxia': ['Ningxia', 'China', '37.2692', '106.1655', '1', '1', '2', '3'], 'China:-Qinghai': ['Qinghai', 'China', '35.7452', '95.9956', '0', '0', '0', '1'], 'China:-Shaanxi': ['Shaanxi', 'China', '35.1917', '108.8701', '0', '3', '5', '15'], 'China:-Shandong': ['Shandong', 'China', '36.3427', '118.1498', '2', '6', '15', '27'], 'China:-Shanghai': ['Shanghai', 'China', '31.202', '121.4491', '9', '16', '20', '33'], 'China:-Shanxi': ['Shanxi', 'China', '37.5777', '112.2922', '1', '1', '1', '6'], 'China:-Sichuan': ['Sichuan', 'China', '30.6171', '102.7103', '5', '8', '15', '28'], 'China:-Tianjin': ['Tianjin', 'China', '39.3054', '117.323', '4', '4', '8', '10'], 'China:-Tibet': ['Tibet', 'China', '31.6927', '88.0924', '0', '0', '0', '0'], 'China:-Xinjiang': ['Xinjiang', 'China', '41.1129', '85.2401', '0', '2', '2', '3'], 'China:-Yunnan': ['Yunnan', 'China', '24.974', '101.487', '1', '2', '5', '11'], 'China:-Zhejiang': ['Zhejiang', 'China', '29.1832', '120.0934', '10', '27', '43', '62'], 'Colombia': ['', 'Colombia', '4.5709', '-74.2973', '0', '0', '0', '0'], 'Comoros': ['', 'Comoros', '-11.6455', '43.3333', '0', '0', '0', '0'], 'Congo (Brazzaville)': ['', 'Congo (Brazzaville)', '-0.228', '15.8277', '0', '0', '0', '0'], 'Congo (Kinshasa)': ['', 'Congo (Kinshasa)', '-4.0383', '21.7587', '0', '0', '0', '0'], 'Costa Rica': ['', 'Costa Rica', '9.7489', '-83.7534', '0', '0', '0', '0'], \"Cote d'Ivoire\": ['', \"Cote d'Ivoire\", '7.54', '-5.5471', '0', '0', '0', '0'], 'Croatia': ['', 'Croatia', '45.1', '15.2', '0', '0', '0', '0'], 'Cuba': ['', 'Cuba', '21.521757', '-77.781167', '0', '0', '0', '0'], 'Cyprus': ['', 'Cyprus', '35.1264', '33.4299', '0', '0', '0', '0'], 'Czechia': ['', 'Czechia', '49.8175', '15.473', '0', '0', '0', '0'], 'Denmark:-Faroe Islands': ['Faroe Islands', 'Denmark', '61.8926', '-6.9118', '0', '0', '0', '0'], 'Denmark:-Greenland': ['Greenland', 'Denmark', '71.7069', '-42.6043', '0', '0', '0', '0'], 'Denmark': ['', 'Denmark', '56.2639', '9.5018', '0', '0', '0', '0'], 'Diamond Princess': ['', 'Diamond Princess', '0.0', '0.0', '0', '0', '0', '0'], 'Djibouti': ['', 'Djibouti', '11.8251', '42.5903', '0', '0', '0', '0'], 'Dominica': ['', 'Dominica', '15.415', '-61.371', '0', '0', '0', '0'], 'Dominican Republic': ['', 'Dominican Republic', '18.7357', '-70.1627', '0', '0', '0', '0'], 'Ecuador': ['', 'Ecuador', '-1.8312', '-78.1834', '0', '0', '0', '0'], 'Egypt': ['', 'Egypt', '26.820553', '30.802498', '0', '0', '0', '0'], 'El Salvador': ['', 'El Salvador', '13.7942', '-88.8965', '0', '0', '0', '0'], 'Equatorial Guinea': ['', 'Equatorial Guinea', '1.6508', '10.2679', '0', '0', '0', '0'], 'Eritrea': ['', 'Eritrea', '15.1794', '39.7823', '0', '0', '0', '0'], 'Estonia': ['', 'Estonia', '58.5953', '25.0136', '0', '0', '0', '0'], 'Eswatini': ['', 'Eswatini', '-26.5225', '31.4659', '0', '0', '0', '0'], 'Ethiopia': ['', 'Ethiopia', '9.145', '40.4897', '0', '0', '0', '0'], 'Fiji': ['', 'Fiji', '-17.7134', '178.065', '0', '0', '0', '0'], 'Finland': ['', 'Finland', '61.92411', '25.748151', '0', '0', '0', '0'], 'France:-French Guiana': ['French Guiana', 'France', '3.9339', '-53.1258', '0', '0', '0', '0'], 'France:-French Polynesia': ['French Polynesia', 'France', '-17.6797', '149.4068', '0', '0', '0', '0'], 'France:-Guadeloupe': ['Guadeloupe', 'France', '16.265', '-61.551', '0', '0', '0', '0'], 'France:-Martinique': ['Martinique', 'France', '14.6415', '-61.0242', '0', '0', '0', '0'], 'France:-Mayotte': ['Mayotte', 'France', '-12.8275', '45.166244', '0', '0', '0', '0'], 'France:-New Caledonia': ['New Caledonia', 'France', '-20.904305', '165.618042', '0', '0', '0', '0'], 'France:-Reunion': ['Reunion', 'France', '-21.1151', '55.5364', '0', '0', '0', '0'], 'France:-Saint Barthelemy': ['Saint Barthelemy', 'France', '17.9', '-62.8333', '0', '0', '0', '0'], 'France:-Saint Pierre and Miquelon': ['Saint Pierre and Miquelon', 'France', '46.8852', '-56.3159', '0', '0', '0', '0'], 'France:-St Martin': ['St Martin', 'France', '18.0708', '-63.0501', '0', '0', '0', '0'], 'France': ['', 'France', '46.2276', '2.2137', '0', '0', '2', '3'], 'Gabon': ['', 'Gabon', '-0.8037', '11.6094', '0', '0', '0', '0'], 'Gambia': ['', 'Gambia', '13.4432', '-15.3101', '0', '0', '0', '0'], 'Georgia': ['', 'Georgia', '42.3154', '43.3569', '0', '0', '0', '0'], 'Germany': ['', 'Germany', '51.165691', '10.451526', '0', '0', '0', '0'], 'Ghana': ['', 'Ghana', '7.9465', '-1.0232', '0', '0', '0', '0'], 'Greece': ['', 'Greece', '39.0742', '21.8243', '0', '0', '0', '0'], 'Grenada': ['', 'Grenada', '12.1165', '-61.679', '0', '0', '0', '0'], 'Guatemala': ['', 'Guatemala', '15.7835', '-90.2308', '0', '0', '0', '0'], 'Guinea': ['', 'Guinea', '9.9456', '-9.6966', '0', '0', '0', '0'], 'Guinea-Bissau': ['', 'Guinea-Bissau', '11.8037', '-15.1804', '0', '0', '0', '0'], 'Guyana': ['', 'Guyana', '4.860416', '-58.93018', '0', '0', '0', '0'], 'Haiti': ['', 'Haiti', '18.9712', '-72.2852', '0', '0', '0', '0'], 'Holy See': ['', 'Holy See', '41.9029', '12.4534', '0', '0', '0', '0'], 'Honduras': ['', 'Honduras', '15.2', '-86.2419', '0', '0', '0', '0'], 'Hungary': ['', 'Hungary', '47.1625', '19.5033', '0', '0', '0', '0'], 'Iceland': ['', 'Iceland', '64.9631', '-19.0208', '0', '0', '0', '0'], 'India': ['', 'India', '20.593684', '78.96288', '0', '0', '0', '0'], 'Indonesia': ['', 'Indonesia', '-0.7893', '113.9213', '0', '0', '0', '0'], 'Iran': ['', 'Iran', '32.427908', '53.688046', '0', '0', '0', '0'], 'Iraq': ['', 'Iraq', '33.223191', '43.679291', '0', '0', '0', '0'], 'Ireland': ['', 'Ireland', '53.1424', '-7.6921', '0', '0', '0', '0'], 'Israel': ['', 'Israel', '31.046051', '34.851612', '0', '0', '0', '0'], 'Italy': ['', 'Italy', '41.87194', '12.56738', '0', '0', '0', '0'], 'Jamaica': ['', 'Jamaica', '18.1096', '-77.2975', '0', '0', '0', '0'], 'Japan': ['', 'Japan', '36.204824', '138.252924', '2', '2', '2', '2'], 'Jordan': ['', 'Jordan', '31.24', '36.51', '0', '0', '0', '0'], 'Kazakhstan': ['', 'Kazakhstan', '48.0196', '66.9237', '0', '0', '0', '0'], 'Kenya': ['', 'Kenya', '-0.0236', '37.9062', '0', '0', '0', '0'], 'Korea, South': ['', 'Korea, South', '35.907757', '127.766922', '1', '1', '2', '2'], 'Kosovo': ['', 'Kosovo', '42.602636', '20.902977', '0', '0', '0', '0'], 'Kuwait': ['', 'Kuwait', '29.31166', '47.481766', '0', '0', '0', '0'], 'Kyrgyzstan': ['', 'Kyrgyzstan', '41.20438', '74.766098', '0', '0', '0', '0'], 'Laos': ['', 'Laos', '19.85627', '102.495496', '0', '0', '0', '0'], 'Latvia': ['', 'Latvia', '56.8796', '24.6032', '0', '0', '0', '0'], 'Lebanon': ['', 'Lebanon', '33.8547', '35.8623', '0', '0', '0', '0'], 'Lesotho': ['', 'Lesotho', '-29.61', '28.2336', '0', '0', '0', '0'], 'Liberia': ['', 'Liberia', '6.428055', '-9.429499', '0', '0', '0', '0'], 'Libya': ['', 'Libya', '26.3351', '17.228331', '0', '0', '0', '0'], 'Liechtenstein': ['', 'Liechtenstein', '47.14', '9.55', '0', '0', '0', '0'], 'Lithuania': ['', 'Lithuania', '55.1694', '23.8813', '0', '0', '0', '0'], 'Luxembourg': ['', 'Luxembourg', '49.8153', '6.1296', '0', '0', '0', '0'], 'MS Zaandam': ['', 'MS Zaandam', '0.0', '0.0', '0', '0', '0', '0'], 'Madagascar': ['', 'Madagascar', '-18.766947', '46.869107', '0', '0', '0', '0'], 'Malawi': ['', 'Malawi', '-13.2543', '34.3015', '0', '0', '0', '0'], 'Malaysia': ['', 'Malaysia', '4.210484', '101.975766', '0', '0', '0', '3'], 'Maldives': ['', 'Maldives', '3.2028', '73.2207', '0', '0', '0', '0'], 'Mali': ['', 'Mali', '17.570692', '-3.996166', '0', '0', '0', '0'], 'Malta': ['', 'Malta', '35.9375', '14.3754', '0', '0', '0', '0'], 'Marshall Islands': ['', 'Marshall Islands', '7.1315', '171.1845', '0', '0', '0', '0'], 'Mauritania': ['', 'Mauritania', '21.0079', '-10.9408', '0', '0', '0', '0'], 'Mauritius': ['', 'Mauritius', '-20.348404', '57.552152', '0', '0', '0', '0'], 'Mexico': ['', 'Mexico', '23.6345', '-102.5528', '0', '0', '0', '0'], 'Moldova': ['', 'Moldova', '47.4116', '28.3699', '0', '0', '0', '0'], 'Monaco': ['', 'Monaco', '43.7333', '7.4167', '0', '0', '0', '0'], 'Mongolia': ['', 'Mongolia', '46.8625', '103.8467', '0', '0', '0', '0'], 'Montenegro': ['', 'Montenegro', '42.708678', '19.37439', '0', '0', '0', '0'], 'Morocco': ['', 'Morocco', '31.7917', '-7.0926', '0', '0', '0', '0'], 'Mozambique': ['', 'Mozambique', '-18.665695', '35.529562', '0', '0', '0', '0'], 'Namibia': ['', 'Namibia', '-22.9576', '18.4904', '0', '0', '0', '0'], 'Nepal': ['', 'Nepal', '28.1667', '84.25', '0', '0', '0', '1'], 'Netherlands:-Aruba': ['Aruba', 'Netherlands', '12.5211', '-69.9683', '0', '0', '0', '0'], 'Netherlands:-Bonaire, Sint Eustatius and Saba': ['Bonaire, Sint Eustatius and Saba', 'Netherlands', '12.1784', '-68.2385', '0', '0', '0', '0'], 'Netherlands:-Curacao': ['Curacao', 'Netherlands', '12.1696', '-68.99', '0', '0', '0', '0'], 'Netherlands:-Sint Maarten': ['Sint Maarten', 'Netherlands', '18.0425', '-63.0548', '0', '0', '0', '0'], 'Netherlands': ['', 'Netherlands', '52.1326', '5.2913', '0', '0', '0', '0'], 'New Zealand': ['', 'New Zealand', '-40.9006', '174.886', '0', '0', '0', '0'], 'Nicaragua': ['', 'Nicaragua', '12.865416', '-85.207229', '0', '0', '0', '0'], 'Niger': ['', 'Niger', '17.607789', '8.081666', '0', '0', '0', '0'], 'Nigeria': ['', 'Nigeria', '9.082', '8.6753', '0', '0', '0', '0'], 'North Macedonia': ['', 'North Macedonia', '41.6086', '21.7453', '0', '0', '0', '0'], 'Norway': ['', 'Norway', '60.472', '8.4689', '0', '0', '0', '0'], 'Oman': ['', 'Oman', '21.512583', '55.923255', '0', '0', '0', '0'], 'Pakistan': ['', 'Pakistan', '30.3753', '69.3451', '0', '0', '0', '0'], 'Panama': ['', 'Panama', '8.538', '-80.7821', '0', '0', '0', '0'], 'Papua New Guinea': ['', 'Papua New Guinea', '-6.314993', '143.95555', '0', '0', '0', '0'], 'Paraguay': ['', 'Paraguay', '-23.4425', '-58.4438', '0', '0', '0', '0'], 'Peru': ['', 'Peru', '-9.19', '-75.0152', '0', '0', '0', '0'], 'Philippines': ['', 'Philippines', '12.879721', '121.774017', '0', '0', '0', '0'], 'Poland': ['', 'Poland', '51.9194', '19.1451', '0', '0', '0', '0'], 'Portugal': ['', 'Portugal', '39.3999', '-8.2245', '0', '0', '0', '0'], 'Qatar': ['', 'Qatar', '25.3548', '51.1839', '0', '0', '0', '0'], 'Romania': ['', 'Romania', '45.9432', '24.9668', '0', '0', '0', '0'], 'Russia': ['', 'Russia', '61.52401', '105.318756', '0', '0', '0', '0'], 'Rwanda': ['', 'Rwanda', '-1.9403', '29.8739', '0', '0', '0', '0'], 'Saint Kitts and Nevis': ['', 'Saint Kitts and Nevis', '17.357822', '-62.782998', '0', '0', '0', '0'], 'Saint Lucia': ['', 'Saint Lucia', '13.9094', '-60.9789', '0', '0', '0', '0'], 'Saint Vincent and the Grenadines': ['', 'Saint Vincent and the Grenadines', '12.9843', '-61.2872', '0', '0', '0', '0'], 'San Marino': ['', 'San Marino', '43.9424', '12.4578', '0', '0', '0', '0'], 'Sao Tome and Principe': ['', 'Sao Tome and Principe', '0.1864', '6.6131', '0', '0', '0', '0'], 'Saudi Arabia': ['', 'Saudi Arabia', '23.885942', '45.079162', '0', '0', '0', '0'], 'Senegal': ['', 'Senegal', '14.4974', '-14.4524', '0', '0', '0', '0'], 'Serbia': ['', 'Serbia', '44.0165', '21.0059', '0', '0', '0', '0'], 'Seychelles': ['', 'Seychelles', '-4.6796', '55.492', '0', '0', '0', '0'], 'Sierra Leone': ['', 'Sierra Leone', '8.460555', '-11.779889', '0', '0', '0', '0'], 'Singapore': ['', 'Singapore', '1.2833', '103.8333', '0', '1', '3', '3'], 'Slovakia': ['', 'Slovakia', '48.669', '19.699', '0', '0', '0', '0'], 'Slovenia': ['', 'Slovenia', '46.1512', '14.9955', '0', '0', '0', '0'], 'Solomon Islands': ['', 'Solomon Islands', '-9.6457', '160.1562', '0', '0', '0', '0'], 'Somalia': ['', 'Somalia', '5.152149', '46.199616', '0', '0', '0', '0'], 'South Africa': ['', 'South Africa', '-30.5595', '22.9375', '0', '0', '0', '0'], 'South Sudan': ['', 'South Sudan', '6.877', '31.307', '0', '0', '0', '0'], 'Spain': ['', 'Spain', '40.463667', '-3.74922', '0', '0', '0', '0'], 'Sri Lanka': ['', 'Sri Lanka', '7.873054', '80.771797', '0', '0', '0', '0'], 'Sudan': ['', 'Sudan', '12.8628', '30.2176', '0', '0', '0', '0'], 'Suriname': ['', 'Suriname', '3.9193', '-56.0278', '0', '0', '0', '0'], 'Sweden': ['', 'Sweden', '60.128161', '18.643501', '0', '0', '0', '0'], 'Switzerland': ['', 'Switzerland', '46.8182', '8.2275', '0', '0', '0', '0'], 'Syria': ['', 'Syria', '34.802075', '38.996815', '0', '0', '0', '0'], 'Taiwan*': ['', 'Taiwan*', '23.7', '121.0', '1', '1', '3', '3'], 'Tajikistan': ['', 'Tajikistan', '38.861', '71.2761', '0', '0', '0', '0'], 'Tanzania': ['', 'Tanzania', '-6.369028', '34.888822', '0', '0', '0', '0'], 'Thailand': ['', 'Thailand', '15.870032', '100.992541', '2', '3', '5', '7'], 'Timor-Leste': ['', 'Timor-Leste', '-8.874217', '125.727539', '0', '0', '0', '0'], 'Togo': ['', 'Togo', '8.6195', '0.8248', '0', '0', '0', '0'], 'Trinidad and Tobago': ['', 'Trinidad and Tobago', '10.6918', '-61.2225', '0', '0', '0', '0'], 'Tunisia': ['', 'Tunisia', '33.886917', '9.537499', '0', '0', '0', '0'], 'Turkey': ['', 'Turkey', '38.9637', '35.2433', '0', '0', '0', '0'], 'US': ['', 'US', '40.0', '-100.0', '1', '1', '2', '2'], 'Uganda': ['', 'Uganda', '1.373333', '32.290275', '0', '0', '0', '0'], 'Ukraine': ['', 'Ukraine', '48.3794', '31.1656', '0', '0', '0', '0'], 'United Arab Emirates': ['', 'United Arab Emirates', '23.424076', '53.847818', '0', '0', '0', '0'], 'United Kingdom:-Anguilla': ['Anguilla', 'United Kingdom', '18.2206', '-63.0686', '0', '0', '0', '0'], 'United Kingdom:-Bermuda': ['Bermuda', 'United Kingdom', '32.3078', '-64.7505', '0', '0', '0', '0'], 'United Kingdom:-British Virgin Islands': ['British Virgin Islands', 'United Kingdom', '18.4207', '-64.64', '0', '0', '0', '0'], 'United Kingdom:-Cayman Islands': ['Cayman Islands', 'United Kingdom', '19.3133', '-81.2546', '0', '0', '0', '0'], 'United Kingdom:-Channel Islands': ['Channel Islands', 'United Kingdom', '49.3723', '-2.3644', '0', '0', '0', '0'], 'United Kingdom:-Falkland Islands (Malvinas)': ['Falkland Islands (Malvinas)', 'United Kingdom', '-51.7963', '-59.5236', '0', '0', '0', '0'], 'United Kingdom:-Gibraltar': ['Gibraltar', 'United Kingdom', '36.1408', '-5.3536', '0', '0', '0', '0'], 'United Kingdom:-Isle of Man': ['Isle of Man', 'United Kingdom', '54.2361', '-4.5481', '0', '0', '0', '0'], 'United Kingdom:-Montserrat': ['Montserrat', 'United Kingdom', '16.742498', '-62.187366', '0', '0', '0', '0'], 'United Kingdom:-Turks and Caicos Islands': ['Turks and Caicos Islands', 'United Kingdom', '21.694', '-71.7979', '0', '0', '0', '0'], 'United Kingdom': ['', 'United Kingdom', '55.3781', '-3.436', '0', '0', '0', '0'], 'Uruguay': ['', 'Uruguay', '-32.5228', '-55.7658', '0', '0', '0', '0'], 'Uzbekistan': ['', 'Uzbekistan', '41.377491', '64.585262', '0', '0', '0', '0'], 'Vanuatu': ['', 'Vanuatu', '-15.3767', '166.9592', '0', '0', '0', '0'], 'Venezuela': ['', 'Venezuela', '6.4238', '-66.5897', '0', '0', '0', '0'], 'Vietnam': ['', 'Vietnam', '14.058324', '108.277199', '0', '2', '2', '2'], 'West Bank and Gaza': ['', 'West Bank and Gaza', '31.9522', '35.2332', '0', '0', '0', '0'], 'Western Sahara': ['', 'Western Sahara', '24.2155', '-12.8858', '0', '0', '0', '0'], 'Yemen': ['', 'Yemen', '15.552727', '48.516388', '0', '0', '0', '0'], 'Zambia': ['', 'Zambia', '-13.133897', '27.849332', '0', '0', '0', '0'], 'Zimbabwe': ['', 'Zimbabwe', '-19.015438', '29.154857', '0', '0', '0', '0']}\n"
     ]
    }
   ],
   "source": [
    "url = 'https://github.com/CSSEGISandData/COVID-19/blob/master/csse_covid_19_data/csse_covid_19_time_series/time_series_covid19_confirmed_global.csv'\n",
    "tag = '.js-file-line'\n",
    "\n",
    "result = get_covstats(url,tag)\n",
    "print(result[2])\n",
    "\n",
    "\n",
    "#WILDCARD SEARCH\n",
    "#wildcard_match = find_wildcard(result[0],'Ang')\n",
    "#print(wildcard_match)\n",
    "\n",
    "\n"
   ]
  },
  {
   "cell_type": "code",
   "execution_count": null,
   "metadata": {},
   "outputs": [],
   "source": [
    "# Creating or Dataframe\n",
    "import numpy as np\n",
    "from pandas import Series, DataFrame\n",
    "import pandas as pd\n",
    "#EXISTING\n",
    "# {\n",
    "#UK-IsleOfMann:{},\n",
    "#AFGANISTAN:{},\n",
    "#FRANCE:{}\n",
    "#}\n",
    "\n",
    "#INTERIM NEW FORMAT\n",
    "#{\n",
    "#    [UK,isl of....],\n",
    "#    [Afganistan...],\n",
    "#    [France ...]\n",
    "#}\n",
    "\n",
    "#FINAL NEW FORMAT\n",
    "#{\n",
    "#    country:[uk,Afganistan,france],\n",
    "#    province:[Isle of Mann, \"\",\"\"],\n",
    "#    '01/01/20120':[32,3,222]\n",
    "#}\n",
    "\n",
    "#Lets create the INTERIM NEW FORMAT FROM \n",
    "\n"
   ]
  }
 ],
 "metadata": {
  "kernelspec": {
   "display_name": "Python 3",
   "language": "python",
   "name": "python3"
  },
  "language_info": {
   "codemirror_mode": {
    "name": "ipython",
    "version": 3
   },
   "file_extension": ".py",
   "mimetype": "text/x-python",
   "name": "python",
   "nbconvert_exporter": "python",
   "pygments_lexer": "ipython3",
   "version": "3.8.3"
  }
 },
 "nbformat": 4,
 "nbformat_minor": 4
}
