{
 "cells": [
  {
   "cell_type": "markdown",
   "metadata": {},
   "source": [
    "TASK: Notice how there is more than one page, and subsequent pages look like this http://quotes.toscrape.com/page/2/. Use what you know about for loops and string concatenation to loop through all the pages and get all the unique authors on the website. Keep in mind there are many ways to achieve this, also note that you will need to somehow figure out how to check that your loop is on the last page with quotes. For debugging purposes, I will let you know that there are only 10 pages, so the last page is http://quotes.toscrape.com/page/10/, but try to create a loop that is robust enough that it wouldn't matter to know the amount of pages beforehand, perhaps use try/except for this, its up to you!"
   ]
  },
  {
   "cell_type": "markdown",
   "metadata": {},
   "source": [
    "TASKS: Compile a list of all authors on whole site\n",
    "\n",
    "1. Create a soup for page 1\n",
    "2. figure out how to select the authors for that soup\n",
    "3. create a loop to fetch authors for all pages\n",
    "\n",
    "#EXAMPLE CODE\n",
    "result = requests.get(\"https://en.wikipedia.org/wiki/Napoleon\")\n",
    "type(result)\n",
    "result.text\n",
    "soup = bs4.BeautifulSoup(result.text,\"lxml\")\n",
    "soup\n",
    "soup.select('h1')[0].getText()\n",
    "images = soup.select('.image')\n",
    "firstImage = images[0]\n",
    "firstImage['src']\n",
    "firstImage.keys()"
   ]
  },
  {
   "cell_type": "code",
   "execution_count": 37,
   "metadata": {},
   "outputs": [],
   "source": [
    "# OUR TASK. Import request & beutiful soup\n",
    "import requests\n",
    "import bs4\n",
    "\n",
    "def create_soup(url,tag_name):\n",
    "    page = requests.get(url)\n",
    "    soup = bs4.BeautifulSoup(page.text,\"lxml\")\n",
    "    result = soup.select(tag_name)\n",
    "    return result\n",
    "\n",
    "def get_text_from_tag(tag_list):\n",
    "    tag_number = len(tag_list)\n",
    "    result = []\n",
    "    for item in tag_list:\n",
    "        result.append(item.getText())\n",
    "    return result\n",
    "\n",
    "def get_100_urls(url_template):\n",
    "    result = []\n",
    "    for item in range(100):\n",
    "        result.append(url_template + str(item))\n",
    "    return result\n",
    "    \n",
    "\n"
   ]
  },
  {
   "cell_type": "code",
   "execution_count": 33,
   "metadata": {
    "scrolled": true
   },
   "outputs": [
    {
     "data": {
      "text/plain": [
       "['Albert Einstein',\n",
       " 'J.K. Rowling',\n",
       " 'Albert Einstein',\n",
       " 'Jane Austen',\n",
       " 'Marilyn Monroe',\n",
       " 'Albert Einstein',\n",
       " 'André Gide',\n",
       " 'Thomas A. Edison',\n",
       " 'Eleanor Roosevelt',\n",
       " 'Steve Martin']"
      ]
     },
     "execution_count": 33,
     "metadata": {},
     "output_type": "execute_result"
    }
   ],
   "source": [
    "#PROGRAM\n",
    "page1 = create_soup('http://quotes.toscrape.com/page/1/','.author')\n",
    "#page1\n",
    "page1_author_list = get_text_from_tag(page1)\n",
    "page1_author_list\n",
    "\n"
   ]
  },
  {
   "cell_type": "code",
   "execution_count": 38,
   "metadata": {},
   "outputs": [
    {
     "data": {
      "text/plain": [
       "['http://quotes.toscrape.com/page/0',\n",
       " 'http://quotes.toscrape.com/page/1',\n",
       " 'http://quotes.toscrape.com/page/2',\n",
       " 'http://quotes.toscrape.com/page/3',\n",
       " 'http://quotes.toscrape.com/page/4',\n",
       " 'http://quotes.toscrape.com/page/5',\n",
       " 'http://quotes.toscrape.com/page/6',\n",
       " 'http://quotes.toscrape.com/page/7',\n",
       " 'http://quotes.toscrape.com/page/8',\n",
       " 'http://quotes.toscrape.com/page/9',\n",
       " 'http://quotes.toscrape.com/page/10',\n",
       " 'http://quotes.toscrape.com/page/11',\n",
       " 'http://quotes.toscrape.com/page/12',\n",
       " 'http://quotes.toscrape.com/page/13',\n",
       " 'http://quotes.toscrape.com/page/14',\n",
       " 'http://quotes.toscrape.com/page/15',\n",
       " 'http://quotes.toscrape.com/page/16',\n",
       " 'http://quotes.toscrape.com/page/17',\n",
       " 'http://quotes.toscrape.com/page/18',\n",
       " 'http://quotes.toscrape.com/page/19',\n",
       " 'http://quotes.toscrape.com/page/20',\n",
       " 'http://quotes.toscrape.com/page/21',\n",
       " 'http://quotes.toscrape.com/page/22',\n",
       " 'http://quotes.toscrape.com/page/23',\n",
       " 'http://quotes.toscrape.com/page/24',\n",
       " 'http://quotes.toscrape.com/page/25',\n",
       " 'http://quotes.toscrape.com/page/26',\n",
       " 'http://quotes.toscrape.com/page/27',\n",
       " 'http://quotes.toscrape.com/page/28',\n",
       " 'http://quotes.toscrape.com/page/29',\n",
       " 'http://quotes.toscrape.com/page/30',\n",
       " 'http://quotes.toscrape.com/page/31',\n",
       " 'http://quotes.toscrape.com/page/32',\n",
       " 'http://quotes.toscrape.com/page/33',\n",
       " 'http://quotes.toscrape.com/page/34',\n",
       " 'http://quotes.toscrape.com/page/35',\n",
       " 'http://quotes.toscrape.com/page/36',\n",
       " 'http://quotes.toscrape.com/page/37',\n",
       " 'http://quotes.toscrape.com/page/38',\n",
       " 'http://quotes.toscrape.com/page/39',\n",
       " 'http://quotes.toscrape.com/page/40',\n",
       " 'http://quotes.toscrape.com/page/41',\n",
       " 'http://quotes.toscrape.com/page/42',\n",
       " 'http://quotes.toscrape.com/page/43',\n",
       " 'http://quotes.toscrape.com/page/44',\n",
       " 'http://quotes.toscrape.com/page/45',\n",
       " 'http://quotes.toscrape.com/page/46',\n",
       " 'http://quotes.toscrape.com/page/47',\n",
       " 'http://quotes.toscrape.com/page/48',\n",
       " 'http://quotes.toscrape.com/page/49',\n",
       " 'http://quotes.toscrape.com/page/50',\n",
       " 'http://quotes.toscrape.com/page/51',\n",
       " 'http://quotes.toscrape.com/page/52',\n",
       " 'http://quotes.toscrape.com/page/53',\n",
       " 'http://quotes.toscrape.com/page/54',\n",
       " 'http://quotes.toscrape.com/page/55',\n",
       " 'http://quotes.toscrape.com/page/56',\n",
       " 'http://quotes.toscrape.com/page/57',\n",
       " 'http://quotes.toscrape.com/page/58',\n",
       " 'http://quotes.toscrape.com/page/59',\n",
       " 'http://quotes.toscrape.com/page/60',\n",
       " 'http://quotes.toscrape.com/page/61',\n",
       " 'http://quotes.toscrape.com/page/62',\n",
       " 'http://quotes.toscrape.com/page/63',\n",
       " 'http://quotes.toscrape.com/page/64',\n",
       " 'http://quotes.toscrape.com/page/65',\n",
       " 'http://quotes.toscrape.com/page/66',\n",
       " 'http://quotes.toscrape.com/page/67',\n",
       " 'http://quotes.toscrape.com/page/68',\n",
       " 'http://quotes.toscrape.com/page/69',\n",
       " 'http://quotes.toscrape.com/page/70',\n",
       " 'http://quotes.toscrape.com/page/71',\n",
       " 'http://quotes.toscrape.com/page/72',\n",
       " 'http://quotes.toscrape.com/page/73',\n",
       " 'http://quotes.toscrape.com/page/74',\n",
       " 'http://quotes.toscrape.com/page/75',\n",
       " 'http://quotes.toscrape.com/page/76',\n",
       " 'http://quotes.toscrape.com/page/77',\n",
       " 'http://quotes.toscrape.com/page/78',\n",
       " 'http://quotes.toscrape.com/page/79',\n",
       " 'http://quotes.toscrape.com/page/80',\n",
       " 'http://quotes.toscrape.com/page/81',\n",
       " 'http://quotes.toscrape.com/page/82',\n",
       " 'http://quotes.toscrape.com/page/83',\n",
       " 'http://quotes.toscrape.com/page/84',\n",
       " 'http://quotes.toscrape.com/page/85',\n",
       " 'http://quotes.toscrape.com/page/86',\n",
       " 'http://quotes.toscrape.com/page/87',\n",
       " 'http://quotes.toscrape.com/page/88',\n",
       " 'http://quotes.toscrape.com/page/89',\n",
       " 'http://quotes.toscrape.com/page/90',\n",
       " 'http://quotes.toscrape.com/page/91',\n",
       " 'http://quotes.toscrape.com/page/92',\n",
       " 'http://quotes.toscrape.com/page/93',\n",
       " 'http://quotes.toscrape.com/page/94',\n",
       " 'http://quotes.toscrape.com/page/95',\n",
       " 'http://quotes.toscrape.com/page/96',\n",
       " 'http://quotes.toscrape.com/page/97',\n",
       " 'http://quotes.toscrape.com/page/98',\n",
       " 'http://quotes.toscrape.com/page/99']"
      ]
     },
     "execution_count": 38,
     "metadata": {},
     "output_type": "execute_result"
    }
   ],
   "source": [
    "my_urls = get_100_urls('http://quotes.toscrape.com/page/')\n",
    "my_urls"
   ]
  },
  {
   "cell_type": "code",
   "execution_count": null,
   "metadata": {},
   "outputs": [],
   "source": [
    "#loop accross all pages we need\n",
    "#determine number of pages related to generic URL\n",
    "#Loop acroos all pages\n",
    "page1_author_list\n",
    "\n",
    "#determine number pages\n",
    "generic_url = 'http://quotes.toscrape.com/page/' #url minus the page number\n",
    "\n",
    "result = []\n",
    "for item in range(100):\n",
    "     result.append(generic_url + str(item))\n",
    "re\n",
    "    \n"
   ]
  }
 ],
 "metadata": {
  "kernelspec": {
   "display_name": "Python 3",
   "language": "python",
   "name": "python3"
  },
  "language_info": {
   "codemirror_mode": {
    "name": "ipython",
    "version": 3
   },
   "file_extension": ".py",
   "mimetype": "text/x-python",
   "name": "python",
   "nbconvert_exporter": "python",
   "pygments_lexer": "ipython3",
   "version": "3.8.3"
  }
 },
 "nbformat": 4,
 "nbformat_minor": 4
}
