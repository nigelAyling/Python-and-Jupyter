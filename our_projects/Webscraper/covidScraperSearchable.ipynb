{
 "cells": [
  {
   "cell_type": "code",
   "execution_count": 19,
   "metadata": {},
   "outputs": [],
   "source": [
    "# OUR TASK. Import request & beutiful soup\n",
    "import requests\n",
    "import bs4\n",
    "def create_soup(url,tag_name):\n",
    "    page = requests.get(url)\n",
    "    soup = bs4.BeautifulSoup(page.text,\"lxml\")\n",
    "    result = soup.select(tag_name)\n",
    "    return result\n",
    "def get_covstats(url,tag):\n",
    "    data = create_soup(url,tag) \n",
    "    #Create Resulting List\n",
    "    master_dictionary = {}\n",
    "    #define country_lookup\n",
    "    country_lookup = []\n",
    "    #Create Header Row\n",
    "    headers = data[0].getText()\n",
    "    headers_list = headers.split('\\n')\n",
    "    headers_list_cleaned = headers_list[2:4]\n",
    "    # this data[1:5] is just 3 rows for testing purposes\n",
    "    for item in data[1:]:\n",
    "        item_text = item.getText()\n",
    "        item_list = item_text.split('\\n')\n",
    "        #item_list[3-5] is limiting the columns for testing purposes\n",
    "        item_list_cleaned = item_list[2:4]\n",
    "        countryname_only = item_list[3]\n",
    "        dictionary_row = dict(zip(headers_list_cleaned, item_list_cleaned))\n",
    "        #print(dictionary_row)\n",
    "        # put it into summary list\n",
    "        current_province =  dictionary_row[\"Province/State\"]\n",
    "        current_country = dictionary_row[\"Country/Region\"] \n",
    "        current_location = current_country +\":-\"+ current_province\n",
    "        \n",
    "        #1. build a SET of countries (FOR LOOKUP)\n",
    "        country_lookup.append(current_location) \n",
    "        #2 Build \n",
    "        master_dictionary.update({current_location:dictionary_row})\n",
    "        \n",
    "        #print(master_dictionary)\n",
    "        \n",
    "       \n",
    "\n",
    "    #print(summary_list)\n",
    "    return [master_dictionary, set(country_lookup)]"
   ]
  },
  {
   "cell_type": "code",
   "execution_count": 20,
   "metadata": {},
   "outputs": [
    {
     "name": "stdout",
     "output_type": "stream",
     "text": [
      "{'Estonia:-', 'China:-Gansu', 'Guinea:-', 'China:-Jiangxi', 'Canada:-Manitoba', 'Laos:-', 'Denmark:-Greenland', 'Luxembourg:-', 'Canada:-New Brunswick', 'Netherlands:-Aruba', 'Malawi:-', 'Cambodia:-', 'Australia:-Western Australia', 'Egypt:-', 'Oman:-', 'Sierra Leone:-', 'Kuwait:-', 'Finland:-', 'Turkey:-', 'China:-Guangdong', 'Antigua and Barbuda:-', 'France:-Reunion', 'Denmark:-Faroe Islands', 'Jordan:-', 'Niger:-', 'North Macedonia:-', 'Mali:-', 'US:-', 'Colombia:-', 'MS Zaandam:-', 'Belgium:-', 'Central African Republic:-', 'Madagascar:-', 'Cabo Verde:-', 'Kosovo:-', 'Netherlands:-', 'Costa Rica:-', 'Liechtenstein:-', 'United Kingdom:-Anguilla', 'Tanzania:-', 'Brazil:-', 'Dominica:-', 'Lebanon:-', 'Australia:-South Australia', 'China:-Zhejiang', 'Congo (Kinshasa):-', 'China:-Tibet', 'Australia:-Victoria', 'Sao Tome and Principe:-', 'Greece:-', 'Slovenia:-', \"Cote d'Ivoire:-\", 'China:-Shanghai', 'Mauritius:-', 'China:-Tianjin', 'Indonesia:-', 'Guyana:-', 'Djibouti:-', 'Iceland:-', 'France:-', 'Czechia:-', 'Peru:-', 'China:-Hunan', 'Bangladesh:-', 'Canada:-Saskatchewan', 'Canada:-Yukon', 'Latvia:-', 'China:-Ningxia', 'France:-Mayotte', 'Saint Kitts and Nevis:-', 'Barbados:-', 'Cuba:-', 'United Kingdom:-Isle of Man', 'China:-Shandong', 'France:-French Polynesia', 'Australia:-Northern Territory', 'Moldova:-', 'Guatemala:-', 'Ethiopia:-', 'Australia:-Queensland', 'China:-Liaoning', 'France:-Guadeloupe', 'United Kingdom:-British Virgin Islands', 'Tajikistan:-', 'Dominican Republic:-', 'Panama:-', 'Somalia:-', 'Malta:-', 'Uzbekistan:-', 'Nigeria:-', 'Afghanistan:-', 'China:-Hong Kong', 'Timor-Leste:-', 'Portugal:-', 'Tunisia:-', 'San Marino:-', 'Australia:-Australian Capital Territory', 'China:-Beijing', 'China:-Henan', 'South Africa:-', 'Equatorial Guinea:-', 'Israel:-', 'Paraguay:-', 'Philippines:-', 'Diamond Princess:-', 'Bhutan:-', 'Armenia:-', 'Iraq:-', 'Switzerland:-', 'Netherlands:-Curacao', 'Ukraine:-', 'Cyprus:-', 'China:-Anhui', 'China:-Jiangsu', 'Canada:-Quebec', 'Kyrgyzstan:-', 'Kazakhstan:-', 'China:-Chongqing', 'Croatia:-', 'Maldives:-', 'Taiwan*:-', 'India:-', 'China:-Guizhou', 'China:-Hebei', 'Netherlands:-Bonaire, Sint Eustatius and Saba', 'China:-Inner Mongolia', 'Togo:-', 'Albania:-', 'Singapore:-', 'Argentina:-', 'France:-St Martin', 'Namibia:-', 'China:-Qinghai', 'Poland:-', 'Bosnia and Herzegovina:-', 'Saint Lucia:-', 'Algeria:-', 'Ecuador:-', 'United Arab Emirates:-', 'Cameroon:-', 'New Zealand:-', 'Belarus:-', 'China:-Jilin', 'France:-French Guiana', 'Mauritania:-', 'Georgia:-', 'Monaco:-', 'Zimbabwe:-', 'Solomon Islands:-', 'Nepal:-', 'Saudi Arabia:-', 'Rwanda:-', 'Lesotho:-', 'Comoros:-', 'Congo (Brazzaville):-', 'Benin:-', 'Gambia:-', 'Malaysia:-', 'Canada:-Nova Scotia', 'Slovakia:-', 'Burkina Faso:-', 'West Bank and Gaza:-', 'China:-Sichuan', 'France:-New Caledonia', 'El Salvador:-', 'Vietnam:-', 'Gabon:-', 'Uganda:-', 'China:-Xinjiang', 'Jamaica:-', 'Uruguay:-', 'Yemen:-', 'China:-Fujian', 'China:-Yunnan', 'Korea, South:-', 'France:-Saint Barthelemy', 'Serbia:-', 'Angola:-', 'France:-Saint Pierre and Miquelon', 'United Kingdom:-Channel Islands', 'Canada:-Prince Edward Island', 'Iran:-', 'United Kingdom:-Gibraltar', 'Sri Lanka:-', 'United Kingdom:-Falkland Islands (Malvinas)', 'China:-Shaanxi', 'Canada:-Grand Princess', 'South Sudan:-', 'United Kingdom:-Montserrat', 'Honduras:-', 'Pakistan:-', 'Denmark:-', 'Botswana:-', 'Canada:-Northwest Territories', 'China:-Macau', 'Fiji:-', 'United Kingdom:-Cayman Islands', 'Guinea-Bissau:-', 'Norway:-', 'Syria:-', 'Bulgaria:-', 'Belize:-', 'Zambia:-', 'Sudan:-', 'Vanuatu:-', 'China:-Hainan', 'Marshall Islands:-', 'Austria:-', 'Suriname:-', 'Canada:-Alberta', 'Italy:-', 'Kenya:-', 'China:-Guangxi', 'Morocco:-', 'Nicaragua:-', 'Mexico:-', 'Canada:-British Columbia', 'Brunei:-', 'Papua New Guinea:-', 'Burundi:-', 'Venezuela:-', 'United Kingdom:-Bermuda', 'Japan:-', 'Australia:-Tasmania', 'Grenada:-', 'Germany:-', 'China:-Heilongjiang', 'Liberia:-', 'Eswatini:-', 'Hungary:-', 'Australia:-New South Wales', 'Libya:-', 'Romania:-', 'United Kingdom:-Turks and Caicos Islands', 'Saint Vincent and the Grenadines:-', 'Western Sahara:-', 'Ireland:-', 'Chile:-', 'United Kingdom:-', 'Mozambique:-', 'Spain:-', 'Canada:-Diamond Princess', 'Chad:-', 'Canada:-Ontario', 'Burma:-', 'Haiti:-', 'Bolivia:-', 'China:-Hubei', 'Seychelles:-', 'Holy See:-', 'Bahrain:-', 'Eritrea:-', 'Montenegro:-', 'Qatar:-', 'Sweden:-', 'France:-Martinique', 'Bahamas:-', 'Senegal:-', 'Lithuania:-', 'Andorra:-', 'Azerbaijan:-', 'Canada:-Newfoundland and Labrador', 'Trinidad and Tobago:-', 'Netherlands:-Sint Maarten', 'Ghana:-', 'China:-Shanxi', 'Mongolia:-', 'Russia:-', 'Thailand:-'}\n"
     ]
    }
   ],
   "source": [
    "url = 'https://github.com/CSSEGISandData/COVID-19/blob/master/csse_covid_19_data/csse_covid_19_time_series/time_series_covid19_confirmed_global.csv'\n",
    "tag = '.js-file-line'\n",
    "\n",
    "result = get_covstats(url,tag)\n",
    "print(result[1])\n",
    "\n",
    "#selection = result[\"United Kingdom\"][gibralter]\n",
    "#print(selection)\n",
    "# find a dictionary within a list by value\n",
    "\n",
    "#NEXT STEPS WE figure out if we can search with wildcards \n",
    "\n"
   ]
  },
  {
   "cell_type": "code",
   "execution_count": null,
   "metadata": {},
   "outputs": [],
   "source": [
    "# cannot search with wildcards in dictionaries - can in a list\n",
    "\n",
    "#wildcard searches\n",
    "[\n",
    "    United states,\n",
    "    'UK',\n",
    "    \n",
    "]\n",
    "\n",
    "#store of Data\n",
    "{\n",
    "    United Kingdom:{\n",
    "                    isle of Mann:{},\n",
    "                    Gibralter:{},\n",
    "                    UK Mainland:{},\n",
    "    },\n",
    "    Australia:{}\n",
    "}\n",
    "\n",
    "# OUR OPTION\n",
    "#1 set for searching\n",
    "[\n",
    "    \"United Kingdom-isle of Mann\",\n",
    "    \"United Kingdom-Gebralter\"\n",
    "]\n",
    "#2. Dictionary store of Data\n",
    "{\n",
    "    United Kingdom-isle of Mann:{}\n",
    "    \"United Kingdom-Gebralter\":{}    \n",
    "    },\n",
    "    Australia:{}\n",
    "}\n",
    "\n",
    "CountryLookup.find(\"uk*\")\n",
    "-> United Kingdom-isle of Mann\n",
    "\n",
    "resultDictionary[\"United Kingdom-isle of Mann\"]\n",
    "\n"
   ]
  },
  {
   "cell_type": "code",
   "execution_count": null,
   "metadata": {},
   "outputs": [],
   "source": []
  }
 ],
 "metadata": {
  "kernelspec": {
   "display_name": "Python 3",
   "language": "python",
   "name": "python3"
  },
  "language_info": {
   "codemirror_mode": {
    "name": "ipython",
    "version": 3
   },
   "file_extension": ".py",
   "mimetype": "text/x-python",
   "name": "python",
   "nbconvert_exporter": "python",
   "pygments_lexer": "ipython3",
   "version": "3.8.3"
  }
 },
 "nbformat": 4,
 "nbformat_minor": 4
}
