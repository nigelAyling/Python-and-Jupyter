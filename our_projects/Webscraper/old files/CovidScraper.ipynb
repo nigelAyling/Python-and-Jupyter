{
 "cells": [
  {
   "cell_type": "code",
   "execution_count": 12,
   "metadata": {},
   "outputs": [],
   "source": [
    "# OUR TASK. Import request & beutiful soup\n",
    "import requests\n",
    "import bs4\n",
    "\n",
    "def create_soup(url,tag_name):\n",
    "    page = requests.get(url)\n",
    "    soup = bs4.BeautifulSoup(page.text,\"lxml\")\n",
    "    result = soup.select(tag_name)\n",
    "    return result\n",
    "\n",
    "def get_text_from_tag(tag_list):\n",
    "    tag_number = len(tag_list)\n",
    "    result = []\n",
    "    for item in tag_list:\n",
    "        result.append(item.getText())\n",
    "    return result\n",
    "\n",
    "def get_99_urls(url_template):\n",
    "    result = []\n",
    "    for item in range(1,99):\n",
    "        result.append(url_template + str(item))\n",
    "    return result\n",
    "    \n",
    "def page_scrape_multiple_pages(url,tag_name):\n",
    "    #Get 99 Urls\n",
    "    imput_urls = get_99_urls(url)\n",
    "    page_has_content = True\n",
    "    master_result_list = []\n",
    "     \n",
    "    while page_has_content == True:\n",
    "        for page_number in range(1,200):\n",
    "            current_page = create_soup(imput_urls[page_number-1],tag_name)\n",
    "            current_page_author_list = get_text_from_tag(current_page)\n",
    "\n",
    "            if len(current_page_author_list) == 0:\n",
    "                print('List is empty')\n",
    "                page_has_content = False\n",
    "                break  \n",
    "\n",
    "            #print('Page Number',page_number)\n",
    "            #print('Page Text:',current_page_author_list,'\\n')\n",
    "            # this is where we construct our master list of all records\n",
    "            master_result_list = master_result_list + current_page_author_list\n",
    "            #print('Page Text:',master_result_list,'\\n')\n",
    "            \n",
    "    for item in master_result_list:\n",
    "        print(item)\n",
    "        \n",
    "    return master_result_list\n",
    "\n"
   ]
  },
  {
   "cell_type": "code",
   "execution_count": 24,
   "metadata": {},
   "outputs": [],
   "source": [
    "#this is our fancy function\n",
    "def get_covstats(url,tag):\n",
    "    data = create_soup(url,tag) \n",
    "\n",
    "    #Create Resulting List\n",
    "    summary_list = []\n",
    "    #Create Header Row\n",
    "    headers = data[0].getText()\n",
    "    headers_list = headers.split('\\n')\n",
    "    headers_list_cleaned = headers_list[3:5]\n",
    "    # this data[1:5] is just 3 rows for testing purposes\n",
    "    for item in data[1:]:\n",
    "        item_text = item.getText()\n",
    "        item_list = item_text.split('\\n')\n",
    "        #item_list[3-5] is limiting the columns for testing purposes\n",
    "        item_list_cleaned = item_list[3:5]\n",
    "        dictionary_row = dict(zip(headers_list_cleaned, item_list_cleaned))\n",
    "        #print(dictionary_row)\n",
    "        # put it into summary list\n",
    "        summary_list.append(dictionary_row)\n",
    "        \n",
    "    \n",
    "    \n",
    "    #print(summary_list)\n",
    "    return summary_list\n"
   ]
  },
  {
   "cell_type": "code",
   "execution_count": 25,
   "metadata": {},
   "outputs": [
    {
     "name": "stdout",
     "output_type": "stream",
     "text": [
      "[{'Country/Region': 'Afghanistan', 'Lat': '33.93911'}, {'Country/Region': 'Albania', 'Lat': '41.1533'}, {'Country/Region': 'Algeria', 'Lat': '28.0339'}, {'Country/Region': 'Andorra', 'Lat': '42.5063'}, {'Country/Region': 'Angola', 'Lat': '-11.2027'}, {'Country/Region': 'Antigua and Barbuda', 'Lat': '17.0608'}, {'Country/Region': 'Argentina', 'Lat': '-38.4161'}, {'Country/Region': 'Armenia', 'Lat': '40.0691'}, {'Country/Region': 'Australia', 'Lat': '-35.4735'}, {'Country/Region': 'Australia', 'Lat': '-33.8688'}, {'Country/Region': 'Australia', 'Lat': '-12.4634'}, {'Country/Region': 'Australia', 'Lat': '-27.4698'}, {'Country/Region': 'Australia', 'Lat': '-34.9285'}, {'Country/Region': 'Australia', 'Lat': '-42.8821'}, {'Country/Region': 'Australia', 'Lat': '-37.8136'}, {'Country/Region': 'Australia', 'Lat': '-31.9505'}, {'Country/Region': 'Austria', 'Lat': '47.5162'}, {'Country/Region': 'Azerbaijan', 'Lat': '40.1431'}, {'Country/Region': 'Bahamas', 'Lat': '25.025885'}, {'Country/Region': 'Bahrain', 'Lat': '26.0275'}, {'Country/Region': 'Bangladesh', 'Lat': '23.685'}, {'Country/Region': 'Barbados', 'Lat': '13.1939'}, {'Country/Region': 'Belarus', 'Lat': '53.7098'}, {'Country/Region': 'Belgium', 'Lat': '50.8333'}, {'Country/Region': 'Belize', 'Lat': '17.1899'}, {'Country/Region': 'Benin', 'Lat': '9.3077'}, {'Country/Region': 'Bhutan', 'Lat': '27.5142'}, {'Country/Region': 'Bolivia', 'Lat': '-16.2902'}, {'Country/Region': 'Bosnia and Herzegovina', 'Lat': '43.9159'}, {'Country/Region': 'Botswana', 'Lat': '-22.3285'}, {'Country/Region': 'Brazil', 'Lat': '-14.235'}, {'Country/Region': 'Brunei', 'Lat': '4.5353'}, {'Country/Region': 'Bulgaria', 'Lat': '42.7339'}, {'Country/Region': 'Burkina Faso', 'Lat': '12.2383'}, {'Country/Region': 'Burma', 'Lat': '21.9162'}, {'Country/Region': 'Burundi', 'Lat': '-3.3731'}, {'Country/Region': 'Cabo Verde', 'Lat': '16.5388'}, {'Country/Region': 'Cambodia', 'Lat': '11.55'}, {'Country/Region': 'Cameroon', 'Lat': '3.848'}, {'Country/Region': 'Canada', 'Lat': '53.9333'}, {'Country/Region': 'Canada', 'Lat': '53.7267'}, {'Country/Region': 'Canada', 'Lat': '0.0'}, {'Country/Region': 'Canada', 'Lat': '0.0'}, {'Country/Region': 'Canada', 'Lat': '53.7609'}, {'Country/Region': 'Canada', 'Lat': '46.5653'}, {'Country/Region': 'Canada', 'Lat': '53.1355'}, {'Country/Region': 'Canada', 'Lat': '64.8255'}, {'Country/Region': 'Canada', 'Lat': '44.682'}, {'Country/Region': 'Canada', 'Lat': '51.2538'}, {'Country/Region': 'Canada', 'Lat': '46.5107'}, {'Country/Region': 'Canada', 'Lat': '52.9399'}, {'Country/Region': 'Canada', 'Lat': '52.9399'}, {'Country/Region': 'Canada', 'Lat': '64.2823'}, {'Country/Region': 'Central African Republic', 'Lat': '6.6111'}, {'Country/Region': 'Chad', 'Lat': '15.4542'}, {'Country/Region': 'Chile', 'Lat': '-35.6751'}, {'Country/Region': 'China', 'Lat': '31.8257'}, {'Country/Region': 'China', 'Lat': '40.1824'}, {'Country/Region': 'China', 'Lat': '30.0572'}, {'Country/Region': 'China', 'Lat': '26.0789'}, {'Country/Region': 'China', 'Lat': '35.7518'}, {'Country/Region': 'China', 'Lat': '23.3417'}, {'Country/Region': 'China', 'Lat': '23.8298'}, {'Country/Region': 'China', 'Lat': '26.8154'}, {'Country/Region': 'China', 'Lat': '19.1959'}, {'Country/Region': 'China', 'Lat': '39.549'}, {'Country/Region': 'China', 'Lat': '47.862'}, {'Country/Region': 'China', 'Lat': '37.8957'}, {'Country/Region': 'China', 'Lat': '22.3'}, {'Country/Region': 'China', 'Lat': '30.9756'}, {'Country/Region': 'China', 'Lat': '27.6104'}, {'Country/Region': 'China', 'Lat': '44.0935'}, {'Country/Region': 'China', 'Lat': '32.9711'}, {'Country/Region': 'China', 'Lat': '27.614'}, {'Country/Region': 'China', 'Lat': '43.6661'}, {'Country/Region': 'China', 'Lat': '41.2956'}, {'Country/Region': 'China', 'Lat': '22.1667'}, {'Country/Region': 'China', 'Lat': '37.2692'}, {'Country/Region': 'China', 'Lat': '35.7452'}, {'Country/Region': 'China', 'Lat': '35.1917'}, {'Country/Region': 'China', 'Lat': '36.3427'}, {'Country/Region': 'China', 'Lat': '31.202'}, {'Country/Region': 'China', 'Lat': '37.5777'}, {'Country/Region': 'China', 'Lat': '30.6171'}, {'Country/Region': 'China', 'Lat': '39.3054'}, {'Country/Region': 'China', 'Lat': '31.6927'}, {'Country/Region': 'China', 'Lat': '41.1129'}, {'Country/Region': 'China', 'Lat': '24.974'}, {'Country/Region': 'China', 'Lat': '29.1832'}, {'Country/Region': 'Colombia', 'Lat': '4.5709'}, {'Country/Region': 'Comoros', 'Lat': '-11.6455'}, {'Country/Region': 'Congo (Brazzaville)', 'Lat': '-0.228'}, {'Country/Region': 'Congo (Kinshasa)', 'Lat': '-4.0383'}, {'Country/Region': 'Costa Rica', 'Lat': '9.7489'}, {'Country/Region': \"Cote d'Ivoire\", 'Lat': '7.54'}, {'Country/Region': 'Croatia', 'Lat': '45.1'}, {'Country/Region': 'Cuba', 'Lat': '21.521757'}, {'Country/Region': 'Cyprus', 'Lat': '35.1264'}, {'Country/Region': 'Czechia', 'Lat': '49.8175'}, {'Country/Region': 'Denmark', 'Lat': '61.8926'}, {'Country/Region': 'Denmark', 'Lat': '71.7069'}, {'Country/Region': 'Denmark', 'Lat': '56.2639'}, {'Country/Region': 'Diamond Princess', 'Lat': '0.0'}, {'Country/Region': 'Djibouti', 'Lat': '11.8251'}, {'Country/Region': 'Dominica', 'Lat': '15.415'}, {'Country/Region': 'Dominican Republic', 'Lat': '18.7357'}, {'Country/Region': 'Ecuador', 'Lat': '-1.8312'}, {'Country/Region': 'Egypt', 'Lat': '26.820553'}, {'Country/Region': 'El Salvador', 'Lat': '13.7942'}, {'Country/Region': 'Equatorial Guinea', 'Lat': '1.6508'}, {'Country/Region': 'Eritrea', 'Lat': '15.1794'}, {'Country/Region': 'Estonia', 'Lat': '58.5953'}, {'Country/Region': 'Eswatini', 'Lat': '-26.5225'}, {'Country/Region': 'Ethiopia', 'Lat': '9.145'}, {'Country/Region': 'Fiji', 'Lat': '-17.7134'}, {'Country/Region': 'Finland', 'Lat': '61.92411'}, {'Country/Region': 'France', 'Lat': '3.9339'}, {'Country/Region': 'France', 'Lat': '-17.6797'}, {'Country/Region': 'France', 'Lat': '16.265'}, {'Country/Region': 'France', 'Lat': '14.6415'}, {'Country/Region': 'France', 'Lat': '-12.8275'}, {'Country/Region': 'France', 'Lat': '-20.904305'}, {'Country/Region': 'France', 'Lat': '-21.1151'}, {'Country/Region': 'France', 'Lat': '17.9'}, {'Country/Region': 'France', 'Lat': '46.8852'}, {'Country/Region': 'France', 'Lat': '18.0708'}, {'Country/Region': 'France', 'Lat': '46.2276'}, {'Country/Region': 'Gabon', 'Lat': '-0.8037'}, {'Country/Region': 'Gambia', 'Lat': '13.4432'}, {'Country/Region': 'Georgia', 'Lat': '42.3154'}, {'Country/Region': 'Germany', 'Lat': '51.165691'}, {'Country/Region': 'Ghana', 'Lat': '7.9465'}, {'Country/Region': 'Greece', 'Lat': '39.0742'}, {'Country/Region': 'Grenada', 'Lat': '12.1165'}, {'Country/Region': 'Guatemala', 'Lat': '15.7835'}, {'Country/Region': 'Guinea', 'Lat': '9.9456'}, {'Country/Region': 'Guinea-Bissau', 'Lat': '11.8037'}, {'Country/Region': 'Guyana', 'Lat': '4.860416'}, {'Country/Region': 'Haiti', 'Lat': '18.9712'}, {'Country/Region': 'Holy See', 'Lat': '41.9029'}, {'Country/Region': 'Honduras', 'Lat': '15.2'}, {'Country/Region': 'Hungary', 'Lat': '47.1625'}, {'Country/Region': 'Iceland', 'Lat': '64.9631'}, {'Country/Region': 'India', 'Lat': '20.593684'}, {'Country/Region': 'Indonesia', 'Lat': '-0.7893'}, {'Country/Region': 'Iran', 'Lat': '32.427908'}, {'Country/Region': 'Iraq', 'Lat': '33.223191'}, {'Country/Region': 'Ireland', 'Lat': '53.1424'}, {'Country/Region': 'Israel', 'Lat': '31.046051'}, {'Country/Region': 'Italy', 'Lat': '41.87194'}, {'Country/Region': 'Jamaica', 'Lat': '18.1096'}, {'Country/Region': 'Japan', 'Lat': '36.204824'}, {'Country/Region': 'Jordan', 'Lat': '31.24'}, {'Country/Region': 'Kazakhstan', 'Lat': '48.0196'}, {'Country/Region': 'Kenya', 'Lat': '-0.0236'}, {'Country/Region': 'Korea, South', 'Lat': '35.907757'}, {'Country/Region': 'Kosovo', 'Lat': '42.602636'}, {'Country/Region': 'Kuwait', 'Lat': '29.31166'}, {'Country/Region': 'Kyrgyzstan', 'Lat': '41.20438'}, {'Country/Region': 'Laos', 'Lat': '19.85627'}, {'Country/Region': 'Latvia', 'Lat': '56.8796'}, {'Country/Region': 'Lebanon', 'Lat': '33.8547'}, {'Country/Region': 'Lesotho', 'Lat': '-29.61'}, {'Country/Region': 'Liberia', 'Lat': '6.428055'}, {'Country/Region': 'Libya', 'Lat': '26.3351'}, {'Country/Region': 'Liechtenstein', 'Lat': '47.14'}, {'Country/Region': 'Lithuania', 'Lat': '55.1694'}, {'Country/Region': 'Luxembourg', 'Lat': '49.8153'}, {'Country/Region': 'MS Zaandam', 'Lat': '0.0'}, {'Country/Region': 'Madagascar', 'Lat': '-18.766947'}, {'Country/Region': 'Malawi', 'Lat': '-13.2543'}, {'Country/Region': 'Malaysia', 'Lat': '4.210484'}, {'Country/Region': 'Maldives', 'Lat': '3.2028'}, {'Country/Region': 'Mali', 'Lat': '17.570692'}, {'Country/Region': 'Malta', 'Lat': '35.9375'}, {'Country/Region': 'Marshall Islands', 'Lat': '7.1315'}, {'Country/Region': 'Mauritania', 'Lat': '21.0079'}, {'Country/Region': 'Mauritius', 'Lat': '-20.348404'}, {'Country/Region': 'Mexico', 'Lat': '23.6345'}, {'Country/Region': 'Moldova', 'Lat': '47.4116'}, {'Country/Region': 'Monaco', 'Lat': '43.7333'}, {'Country/Region': 'Mongolia', 'Lat': '46.8625'}, {'Country/Region': 'Montenegro', 'Lat': '42.708678'}, {'Country/Region': 'Morocco', 'Lat': '31.7917'}, {'Country/Region': 'Mozambique', 'Lat': '-18.665695'}, {'Country/Region': 'Namibia', 'Lat': '-22.9576'}, {'Country/Region': 'Nepal', 'Lat': '28.1667'}, {'Country/Region': 'Netherlands', 'Lat': '12.5211'}, {'Country/Region': 'Netherlands', 'Lat': '12.1784'}, {'Country/Region': 'Netherlands', 'Lat': '12.1696'}, {'Country/Region': 'Netherlands', 'Lat': '18.0425'}, {'Country/Region': 'Netherlands', 'Lat': '52.1326'}, {'Country/Region': 'New Zealand', 'Lat': '-40.9006'}, {'Country/Region': 'Nicaragua', 'Lat': '12.865416'}, {'Country/Region': 'Niger', 'Lat': '17.607789'}, {'Country/Region': 'Nigeria', 'Lat': '9.082'}, {'Country/Region': 'North Macedonia', 'Lat': '41.6086'}, {'Country/Region': 'Norway', 'Lat': '60.472'}, {'Country/Region': 'Oman', 'Lat': '21.512583'}, {'Country/Region': 'Pakistan', 'Lat': '30.3753'}, {'Country/Region': 'Panama', 'Lat': '8.538'}, {'Country/Region': 'Papua New Guinea', 'Lat': '-6.314993'}, {'Country/Region': 'Paraguay', 'Lat': '-23.4425'}, {'Country/Region': 'Peru', 'Lat': '-9.19'}, {'Country/Region': 'Philippines', 'Lat': '12.879721'}, {'Country/Region': 'Poland', 'Lat': '51.9194'}, {'Country/Region': 'Portugal', 'Lat': '39.3999'}, {'Country/Region': 'Qatar', 'Lat': '25.3548'}, {'Country/Region': 'Romania', 'Lat': '45.9432'}, {'Country/Region': 'Russia', 'Lat': '61.52401'}, {'Country/Region': 'Rwanda', 'Lat': '-1.9403'}, {'Country/Region': 'Saint Kitts and Nevis', 'Lat': '17.357822'}, {'Country/Region': 'Saint Lucia', 'Lat': '13.9094'}, {'Country/Region': 'Saint Vincent and the Grenadines', 'Lat': '12.9843'}, {'Country/Region': 'San Marino', 'Lat': '43.9424'}, {'Country/Region': 'Sao Tome and Principe', 'Lat': '0.1864'}, {'Country/Region': 'Saudi Arabia', 'Lat': '23.885942'}, {'Country/Region': 'Senegal', 'Lat': '14.4974'}, {'Country/Region': 'Serbia', 'Lat': '44.0165'}, {'Country/Region': 'Seychelles', 'Lat': '-4.6796'}, {'Country/Region': 'Sierra Leone', 'Lat': '8.460555'}, {'Country/Region': 'Singapore', 'Lat': '1.2833'}, {'Country/Region': 'Slovakia', 'Lat': '48.669'}, {'Country/Region': 'Slovenia', 'Lat': '46.1512'}, {'Country/Region': 'Solomon Islands', 'Lat': '-9.6457'}, {'Country/Region': 'Somalia', 'Lat': '5.152149'}, {'Country/Region': 'South Africa', 'Lat': '-30.5595'}, {'Country/Region': 'South Sudan', 'Lat': '6.877'}, {'Country/Region': 'Spain', 'Lat': '40.463667'}, {'Country/Region': 'Sri Lanka', 'Lat': '7.873054'}, {'Country/Region': 'Sudan', 'Lat': '12.8628'}, {'Country/Region': 'Suriname', 'Lat': '3.9193'}, {'Country/Region': 'Sweden', 'Lat': '60.128161'}, {'Country/Region': 'Switzerland', 'Lat': '46.8182'}, {'Country/Region': 'Syria', 'Lat': '34.802075'}, {'Country/Region': 'Taiwan*', 'Lat': '23.7'}, {'Country/Region': 'Tajikistan', 'Lat': '38.861'}, {'Country/Region': 'Tanzania', 'Lat': '-6.369028'}, {'Country/Region': 'Thailand', 'Lat': '15.870032'}, {'Country/Region': 'Timor-Leste', 'Lat': '-8.874217'}, {'Country/Region': 'Togo', 'Lat': '8.6195'}, {'Country/Region': 'Trinidad and Tobago', 'Lat': '10.6918'}, {'Country/Region': 'Tunisia', 'Lat': '33.886917'}, {'Country/Region': 'Turkey', 'Lat': '38.9637'}, {'Country/Region': 'US', 'Lat': '40.0'}, {'Country/Region': 'Uganda', 'Lat': '1.373333'}, {'Country/Region': 'Ukraine', 'Lat': '48.3794'}, {'Country/Region': 'United Arab Emirates', 'Lat': '23.424076'}, {'Country/Region': 'United Kingdom', 'Lat': '18.2206'}, {'Country/Region': 'United Kingdom', 'Lat': '32.3078'}, {'Country/Region': 'United Kingdom', 'Lat': '18.4207'}, {'Country/Region': 'United Kingdom', 'Lat': '19.3133'}, {'Country/Region': 'United Kingdom', 'Lat': '49.3723'}, {'Country/Region': 'United Kingdom', 'Lat': '-51.7963'}, {'Country/Region': 'United Kingdom', 'Lat': '36.1408'}, {'Country/Region': 'United Kingdom', 'Lat': '54.2361'}, {'Country/Region': 'United Kingdom', 'Lat': '16.742498'}, {'Country/Region': 'United Kingdom', 'Lat': '21.694'}, {'Country/Region': 'United Kingdom', 'Lat': '55.3781'}, {'Country/Region': 'Uruguay', 'Lat': '-32.5228'}, {'Country/Region': 'Uzbekistan', 'Lat': '41.377491'}, {'Country/Region': 'Vanuatu', 'Lat': '-15.3767'}, {'Country/Region': 'Venezuela', 'Lat': '6.4238'}, {'Country/Region': 'Vietnam', 'Lat': '14.058324'}, {'Country/Region': 'West Bank and Gaza', 'Lat': '31.9522'}, {'Country/Region': 'Western Sahara', 'Lat': '24.2155'}, {'Country/Region': 'Yemen', 'Lat': '15.552727'}, {'Country/Region': 'Zambia', 'Lat': '-13.133897'}, {'Country/Region': 'Zimbabwe', 'Lat': '-19.015438'}]\n"
     ]
    }
   ],
   "source": [
    "url = 'https://github.com/CSSEGISandData/COVID-19/blob/master/csse_covid_19_data/csse_covid_19_time_series/time_series_covid19_confirmed_global.csv'\n",
    "tag = '.js-file-line'\n",
    "\n",
    "result = get_covstats(url,tag)\n",
    "print(result)\n",
    "\n",
    "uk = result\n",
    "# find a dictionary within a list by value"
   ]
  },
  {
   "cell_type": "code",
   "execution_count": null,
   "metadata": {},
   "outputs": [],
   "source": [
    "#########################"
   ]
  },
  {
   "cell_type": "code",
   "execution_count": null,
   "metadata": {},
   "outputs": [],
   "source": [
    "#this is our fancy function\n",
    "def get_covstats(url,tag):\n",
    "    data = create_soup(url,tag) \n",
    "\n",
    "    #Create Resulting List\n",
    "    summary_list = []\n",
    "    #Create Header Row\n",
    "    headers = data[0].getText()\n",
    "    headers_list = headers.split('\\n')\n",
    "    headers_list_cleaned = headers_list[3:5]\n",
    "    # this data[1:5] is just 3 rows for testing purposes\n",
    "    for item in data[1:]:\n",
    "        item_text = item.getText()\n",
    "        item_list = item_text.split('\\n')\n",
    "        #item_list[3-5] is limiting the columns for testing purposes\n",
    "        item_list_cleaned = item_list[3:5]\n",
    "        dictionary_row = dict(zip(headers_list_cleaned, item_list_cleaned))\n",
    "        #print(dictionary_row)\n",
    "        # put it into summary list\n",
    "        summary_list.append(dictionary_row)\n",
    "        \n",
    "    \n",
    "    \n",
    "    #print(summary_list)\n",
    "    return summary_list"
   ]
  },
  {
   "cell_type": "code",
   "execution_count": 3,
   "metadata": {},
   "outputs": [
    {
     "name": "stdout",
     "output_type": "stream",
     "text": [
      "[{'Country/Region': 'Afghanistan', 'Lat': '33.93911'}, {'Country/Region': 'Albania', 'Lat': '41.1533'}, {'Country/Region': 'Algeria', 'Lat': '28.0339'}, {'Country/Region': 'Andorra', 'Lat': '42.5063'}]\n"
     ]
    }
   ],
   "source": [
    "#Run Scraper To get data\n",
    "url = 'https://github.com/CSSEGISandData/COVID-19/blob/master/csse_covid_19_data/csse_covid_19_time_series/time_series_covid19_confirmed_global.csv'\n",
    "tag = '.js-file-line'\n",
    "data = create_soup(url,tag)\n",
    "#Headers only\n",
    "headers = data[0].getText()\n",
    "headers_list = headers.split('\\n')\n",
    "\n",
    "#print(headers_list[2:9])\n",
    "#second Row\n",
    "row1 = data[1].getText()\n",
    "row1_list = row1.split('\\n')\n",
    "#print(row1_list[2:9])\n",
    "\n",
    "row1_list_sample = row1_list[2:9]\n",
    "header_list_sample = headers_list[2:9]\n",
    "\n",
    "#Now use these two lists and make a dictionary from them\n",
    "\n",
    "dictionary = dict(zip(header_list_sample, row1_list_sample))\n",
    "\n",
    "\n",
    "# Lets do this for the entire data\n",
    "#number_of_rows = len(data)-1\n",
    "#print(number_of_rows)\n",
    "\n",
    "#Create Resulting List\n",
    "summary_list = []\n",
    "#Create Header Row\n",
    "headers = data[0].getText()\n",
    "headers_list = headers.split('\\n')\n",
    "headers_list_cleaned = headers_list[3:5]\n",
    "\n",
    "\n",
    "for item in data[1:5]:\n",
    "    item_text = item.getText()\n",
    "    item_list = item_text.split('\\n')\n",
    "    item_list_cleaned = item_list[3:5]\n",
    "    dictionary_row = dict(zip(headers_list_cleaned, item_list_cleaned))\n",
    "    #print(dictionary_row)\n",
    "    # put it into summary list\n",
    "    summary_list.append(dictionary_row)\n",
    "    \n",
    "print(summary_list)"
   ]
  },
  {
   "cell_type": "code",
   "execution_count": null,
   "metadata": {},
   "outputs": [],
   "source": [
    "url = 'https://github.com/CSSEGISandData/COVID-19/blob/master/csse_covid_19_data/csse_covid_19_time_series/time_series_covid19_confirmed_global.csv'\n",
    "tag = '.js-file-line'\n",
    "page = requests.get(url)\n",
    "soup = bs4.BeautifulSoup(page.text,\"lxml\")\n"
   ]
  },
  {
   "cell_type": "code",
   "execution_count": null,
   "metadata": {},
   "outputs": [],
   "source": []
  }
 ],
 "metadata": {
  "kernelspec": {
   "display_name": "Python 3",
   "language": "python",
   "name": "python3"
  },
  "language_info": {
   "codemirror_mode": {
    "name": "ipython",
    "version": 3
   },
   "file_extension": ".py",
   "mimetype": "text/x-python",
   "name": "python",
   "nbconvert_exporter": "python",
   "pygments_lexer": "ipython3",
   "version": "3.8.3"
  }
 },
 "nbformat": 4,
 "nbformat_minor": 4
}
