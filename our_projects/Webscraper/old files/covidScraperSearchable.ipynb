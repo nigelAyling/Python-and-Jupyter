{
 "cells": [
  {
   "cell_type": "code",
   "execution_count": 3,
   "metadata": {},
   "outputs": [],
   "source": [
    "# OUR TASK. Import request & beutiful soup\n",
    "import requests\n",
    "import bs4\n",
    "def create_soup(url,tag_name):\n",
    "    page = requests.get(url)\n",
    "    soup = bs4.BeautifulSoup(page.text,\"lxml\")\n",
    "    result = soup.select(tag_name)\n",
    "    return result\n",
    "\n",
    "def get_row_label(current_country, current_province):\n",
    "    if current_province == '':\n",
    "        result = current_country\n",
    "    else:\n",
    "        result = current_country+':-'+current_province\n",
    "    return result\n",
    "\n",
    "# SEARCH ITEMS\n",
    "def find_exact(dictionary, search_string):\n",
    "    result = dictionary.get(search_string)\n",
    "    return result\n",
    "\n",
    "def find_wildcard(dictionary,search_string):\n",
    "    output_dictionary={}\n",
    "    for key,val in dictionary.items():\n",
    "        if search_string in key:\n",
    "            output_dictionary[key] = val\n",
    "    return output_dictionary\n",
    "            \n",
    "def get_covstats(url,tag):\n",
    "    data = create_soup(url,tag) \n",
    "    #Create Resulting List\n",
    "    master_dictionary = {}\n",
    "    #define country_lookup\n",
    "    country_lookup = []\n",
    "    #Create Header Row\n",
    "    headers = data[0].getText()\n",
    "    headers_list = headers.split('\\n')\n",
    "    headers_list_cleaned = headers_list[2:4]\n",
    "    # this data[1:5] is just 3 rows for testing purposes\n",
    "    for item in data[1:]:\n",
    "        item_text = item.getText()\n",
    "        item_list = item_text.split('\\n')\n",
    "        #item_list[3-5] is limiting the columns for testing purposes\n",
    "        item_list_cleaned = item_list[2:4]\n",
    "    \n",
    "        dictionary_row = dict(zip(headers_list_cleaned, item_list_cleaned))\n",
    "\n",
    "        # put it into summary list\n",
    "        current_province =  dictionary_row[\"Province/State\"]\n",
    "        current_country = dictionary_row[\"Country/Region\"] \n",
    "        row_label = get_row_label(current_country, current_province)\n",
    "        item_number = item.key\n",
    "        #print(item_number)\n",
    "        #1. build a SET of countries (FOR LOOKUP)\n",
    "        country_lookup.append(row_label) \n",
    "        #2 Build  (adding row_label)\n",
    "        master_dictionary.update({row_label:dictionary_row})\n",
    "        \n",
    "        #print(master_dictionary)\n",
    "        \n",
    "       \n",
    "\n",
    "    #print(summary_list)\n",
    "    return [master_dictionary, country_lookup]"
   ]
  },
  {
   "cell_type": "code",
   "execution_count": 4,
   "metadata": {},
   "outputs": [
    {
     "name": "stdout",
     "output_type": "stream",
     "text": [
      "{'Angola': {'Province/State': '', 'Country/Region': 'Angola'}, 'United Kingdom:-Anguilla': {'Province/State': 'Anguilla', 'Country/Region': 'United Kingdom'}}\n"
     ]
    }
   ],
   "source": [
    "url = 'https://github.com/CSSEGISandData/COVID-19/blob/master/csse_covid_19_data/csse_covid_19_time_series/time_series_covid19_confirmed_global.csv'\n",
    "tag = '.js-file-line'\n",
    "\n",
    "result = get_covstats(url,tag)\n",
    "#master Dictionary\n",
    "#print(result[0])\n",
    "#country_lookup\n",
    "#print(result[1])\n",
    "\n",
    "\n",
    "#SEARCHING\n",
    "\n",
    "\n",
    "#SEARCH DIRECTORY\n",
    "#match = find_exact(result[0],'Afghanistan')\n",
    "#print(match)\n",
    "\n",
    "#WILDCARD SEARCH\n",
    "wildcard_match = find_wildcard(result[0],'Ang')\n",
    "print(wildcard_match)\n",
    "\n",
    "\n",
    "\n",
    "#selection = result[\"United Kingdom\"][gibralter]\n",
    "#print(selection)\n",
    "# find a dictionary within a list by value\n",
    "\n",
    "#NEXT STEPS WE figure out if we can search with wildcards \n",
    "\n"
   ]
  },
  {
   "cell_type": "code",
   "execution_count": null,
   "metadata": {},
   "outputs": [],
   "source": [
    "no_province = get_row_label('UK','')\n",
    "with_province = get_row_label('UK','Isle of Mann')\n",
    "print(no_province)\n",
    "print(with_province)"
   ]
  },
  {
   "cell_type": "code",
   "execution_count": null,
   "metadata": {},
   "outputs": [],
   "source": [
    "# initializing dictionary \n",
    "test_dict = {'All' : 1, 'have' : 2, 'good' : 3, 'food' : 4} \n",
    "  \n",
    "# initializing search key string \n",
    "search_key = 'ood'\n",
    "  \n",
    "# Using items() + list comprehension \n",
    "# Substring Key match in dictionary \n",
    "res = [(key,val) for key, val in test_dict.items() if search_key in key] \n",
    "  \n",
    "# printing result  \n",
    "print(\"Values for substring keys : \" + str(res)) \n",
    "\n",
    "\n"
   ]
  },
  {
   "cell_type": "code",
   "execution_count": null,
   "metadata": {},
   "outputs": [],
   "source": [
    "# initializing dictionary \n",
    "test_dict = {'All' : 1, 'have' : 2, 'good' : 3, 'food' : 4} \n",
    "  \n",
    "# initializing search key string \n",
    "search_key = 'ood'\n",
    "\n",
    "output_list=[]\n",
    "for key,val in test_dict.items():\n",
    "    if search_key in key:\n",
    "    #output_list = search_key.append(item.key)\n",
    "    #print(output_list)\n",
    "        print(key,val)\n",
    "        \n"
   ]
  },
  {
   "cell_type": "code",
   "execution_count": null,
   "metadata": {},
   "outputs": [],
   "source": []
  }
 ],
 "metadata": {
  "kernelspec": {
   "display_name": "Python 3",
   "language": "python",
   "name": "python3"
  },
  "language_info": {
   "codemirror_mode": {
    "name": "ipython",
    "version": 3
   },
   "file_extension": ".py",
   "mimetype": "text/x-python",
   "name": "python",
   "nbconvert_exporter": "python",
   "pygments_lexer": "ipython3",
   "version": "3.8.3"
  }
 },
 "nbformat": 4,
 "nbformat_minor": 4
}
